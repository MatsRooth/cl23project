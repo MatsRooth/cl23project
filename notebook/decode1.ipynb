{
 "cells": [
  {
   "attachments": {},
   "cell_type": "markdown",
   "id": "1dea0a52",
   "metadata": {
    "tags": []
   },
   "source": [
    "# Decoding and Nbest with and unconstrained and constrained HCLG graph"
   ]
  },
  {
   "cell_type": "code",
   "execution_count": 10,
   "id": "32a574df",
   "metadata": {
    "vscode": {
     "languageId": "shellscript"
    }
   },
   "outputs": [
    {
     "name": "stdout",
     "output_type": "stream",
     "text": [
      "/projects/speech/ASR/kaldi/egs/librispeech/s5-mats\n"
     ]
    }
   ],
   "source": [
    "cd $LIBRISPEECH\n",
    "pwd"
   ]
  },
  {
   "cell_type": "code",
   "execution_count": 11,
   "id": "3c8285b0",
   "metadata": {
    "vscode": {
     "languageId": "shellscript"
    }
   },
   "outputs": [
    {
     "name": "stdout",
     "output_type": "stream",
     "text": [
      "/projects/speech/ASR/kaldi/src/featbin/copy-feats\n"
     ]
    }
   ],
   "source": [
    "source hardpath.sh\n",
    "which copy-feats"
   ]
  },
  {
   "attachments": {},
   "cell_type": "markdown",
   "id": "b6591265",
   "metadata": {},
   "source": [
    "#### Swap in the old graph, with all the Librispeech words."
   ]
  },
  {
   "cell_type": "code",
   "execution_count": 12,
   "id": "b0586ed6",
   "metadata": {
    "vscode": {
     "languageId": "shellscript"
    }
   },
   "outputs": [
    {
     "name": "stdout",
     "output_type": "stream",
     "text": [
      "ln: failed to create hard link 'HCLG.fst': File exists\n"
     ]
    }
   ],
   "source": [
    "cd /projects/speech/ASR/kaldi/egs/librispeech/s5-mats/exp/tri6b/graph_tgsmall\n",
    "ln HCLG.old.fst HCLG.fst\n",
    "cd /projects/speech/ASR/kaldi/egs/librispeech/s5-mats"
   ]
  },
  {
   "attachments": {},
   "cell_type": "markdown",
   "id": "80e2212e",
   "metadata": {},
   "source": [
    "This run took 23m!"
   ]
  },
  {
   "cell_type": "code",
   "execution_count": 13,
   "id": "cab0afee",
   "metadata": {
    "vscode": {
     "languageId": "shellscript"
    }
   },
   "outputs": [
    {
     "name": "stdout",
     "output_type": "stream",
     "text": [
      "steps/decode_fmllr.sh --nj 1 --cmd run.pl exp/tri6b/graph_tgsmall data/train21b exp/tri6b/decode_tgsmall_train21C\n",
      "steps/decode.sh --scoring-opts  --num-threads 1 --skip-scoring false --acwt 0.083333 --nj 1 --cmd run.pl --beam 10.0 --model exp/tri6b/final.alimdl --max-active 2000 exp/tri6b/graph_tgsmall data/train21b exp/tri6b/decode_tgsmall_train21C.si\n",
      "decode.sh: feature type is lda\n",
      "\n"
     ]
    }
   ],
   "source": [
    "steps/decode_fmllr.sh --nj 1 --cmd run.pl exp/tri6b/graph_tgsmall data/train21b exp/tri6b/decode_tgsmall_train21C"
   ]
  },
  {
   "cell_type": "code",
   "execution_count": null,
   "id": "bf103a8c",
   "metadata": {
    "vscode": {
     "languageId": "shellscript"
    }
   },
   "outputs": [
    {
     "name": "stdout",
     "output_type": "stream",
     "text": [
      "zoe-a-1 THERE IS MORE THAN ONE CAPITALISED VAL \n",
      "zoe-a-10 THERE ARE NO CAPITALISED LETTERS \n",
      "zoe-a-2 A CONSONANT IMMEDIATELY PRECEDES EVERY AVOWAL \n",
      "zoe-a-3 LETTER TO ISABEL CALICO OR LETTER THEORY IS UNIQUE \n",
      "zoe-a-4 ALL CAPITALISED BOWELS ARE FINAL \n",
      "zoe-a-5 AT LEAST ONE GLIDE IS REPEATED \n",
      "zoe-a-6 THERE ARE VOICED CONSONANCE \n",
      "zoe-a-7 ALL BOWELS ARE CAPITALIZED AND ALL CONSONANTS ARE NOT CAPITALIZED \n",
      "zoe-a-8 ONLY GLIDES ARE REPEATED \n",
      "zoe-a-9 A VAL IS ADJACENT TO EVERY CONSONANT \n"
     ]
    }
   ],
   "source": [
    "egrep '^zoe-a' exp/tri6b/decode_tgsmall_train21C.si/log/decode.1.log | head "
   ]
  },
  {
   "attachments": {},
   "cell_type": "markdown",
   "id": "069169cd",
   "metadata": {},
   "source": [
    "#### Higher acoustic weight\n",
    "Just for fun, decode with a higher acoustic weigth.  This makes the word sequence less coherent."
   ]
  },
  {
   "cell_type": "code",
   "execution_count": null,
   "id": "bd675529",
   "metadata": {
    "vscode": {
     "languageId": "shellscript"
    }
   },
   "outputs": [
    {
     "name": "stdout",
     "output_type": "stream",
     "text": [
      "steps/decode_fmllr.sh --nj 1 --acwt 0.9 --cmd run.pl exp/tri6b/graph_tgsmall data/train21b exp/tri6b/decode_tgsmall_train21E\n",
      "steps/decode.sh --scoring-opts  --num-threads 1 --skip-scoring false --acwt 0.9 --nj 1 --cmd run.pl --beam 10.0 --model exp/tri6b/final.alimdl --max-active 2000 exp/tri6b/graph_tgsmall data/train21b exp/tri6b/decode_tgsmall_train21E.si\n",
      "decode.sh: feature type is lda\n",
      "steps/diagnostic/analyze_lats.sh --cmd run.pl exp/tri6b/graph_tgsmall exp/tri6b/decode_tgsmall_train21E.si\n",
      "steps/diagnostic/analyze_lats.sh: see stats in exp/tri6b/decode_tgsmall_train21E.si/log/analyze_alignments.log\n",
      "Overall, lattice depth (10,50,90-percentile)=(1,2,7) and mean=3.2\n",
      "steps/diagnostic/analyze_lats.sh: see stats in exp/tri6b/decode_tgsmall_train21E.si/log/analyze_lattice_depth_stats.log\n",
      "steps/decode_fmllr.sh: feature type is lda\n",
      "steps/decode_fmllr.sh: getting first-pass fMLLR transforms.\n",
      "steps/decode_fmllr.sh: doing main lattice generation phase\n",
      "steps/decode_fmllr.sh: estimating fMLLR transforms a second time.\n",
      "steps/decode_fmllr.sh: doing a final pass of acoustic rescoring.\n",
      "steps/diagnostic/analyze_lats.sh --cmd run.pl exp/tri6b/graph_tgsmall exp/tri6b/decode_tgsmall_train21E\n",
      "steps/diagnostic/analyze_lats.sh: see stats in exp/tri6b/decode_tgsmall_train21E/log/analyze_alignments.log\n",
      "Overall, lattice depth (10,50,90-percentile)=(1,2,6) and mean=2.7\n",
      "steps/diagnostic/analyze_lats.sh: see stats in exp/tri6b/decode_tgsmall_train21E/log/analyze_lattice_depth_stats.log\n"
     ]
    }
   ],
   "source": [
    " steps/decode_fmllr.sh --nj 1 --acwt 0.9 --cmd run.pl exp/tri6b/graph_tgsmall data/train21b exp/tri6b/decode_tgsmall_train21E"
   ]
  },
  {
   "cell_type": "code",
   "execution_count": null,
   "id": "34139b04",
   "metadata": {
    "vscode": {
     "languageId": "shellscript"
    }
   },
   "outputs": [
    {
     "name": "stdout",
     "output_type": "stream",
     "text": [
      "zoe-a-1 THERE IS MORE THAN ONE CAPITALISED MAL \n",
      "zoe-a-10 THERE ARE NO CAPITALIZE TH' LETTERS CE \n",
      "zoe-a-2 A CONDE'S NED BIM MEADE EILY PRECEDES EVERY VAL ONT \n",
      "zoe-a-3 LETTER TO YOU IS EVOKE CAL EKKA POURED LETTERED FIERI IS UNIQUE \n",
      "zoe-a-4 ALL CAPPEL IZED MAL LE'S OUR FINAL \n",
      "zoe-a-5 AT LEAST ONE IN COLLIDE IS REPEAT ANNET \n",
      "zoe-a-6 THERE ARE A VO WASTE CONSONANCE \n",
      "zoe-a-7 ALL VAL AS OUR CAPITAL LYRES SED AN ALL CONSONANCE ARE NOT CAPITALIZE STE \n",
      "zoe-a-8 ONLY GLIDES ARE REPEATED \n",
      "zoe-a-9 A VAL OUGH IS ID J SENT TO EVERY CONSONANT \n"
     ]
    }
   ],
   "source": [
    "egrep '^zoe-a' exp/tri6b/decode_tgsmall_train21E.si/log/decode.1.log | head "
   ]
  },
  {
   "attachments": {},
   "cell_type": "markdown",
   "id": "55fe8c80",
   "metadata": {},
   "source": [
    "#### Swap in the new graph, with a constrained vocabulary"
   ]
  },
  {
   "cell_type": "code",
   "execution_count": null,
   "id": "0ad332d5",
   "metadata": {
    "vscode": {
     "languageId": "shellscript"
    }
   },
   "outputs": [],
   "source": [
    "cd /projects/speech/ASR/kaldi/egs/librispeech/s5-mats/exp/tri6b/graph_tgsmall\n",
    "rm HCLG.fst\n",
    "ln HCLG.new.fst HCLG.fst\n",
    "cd /projects/speech/ASR/kaldi/egs/librispeech/s5-mats"
   ]
  },
  {
   "cell_type": "code",
   "execution_count": null,
   "id": "de00024c",
   "metadata": {
    "vscode": {
     "languageId": "shellscript"
    }
   },
   "outputs": [
    {
     "name": "stdout",
     "output_type": "stream",
     "text": [
      "steps/decode_fmllr.sh --nj 1 --cmd run.pl exp/tri6b/graph_tgsmall data/train21b exp/tri6b/decode_tgsmall_train21D\n",
      "steps/decode.sh --scoring-opts  --num-threads 1 --skip-scoring false --acwt 0.083333 --nj 1 --cmd run.pl --beam 10.0 --model exp/tri6b/final.alimdl --max-active 2000 exp/tri6b/graph_tgsmall data/train21b exp/tri6b/decode_tgsmall_train21D.si\n",
      "decode.sh: feature type is lda\n",
      "steps/diagnostic/analyze_lats.sh --cmd run.pl exp/tri6b/graph_tgsmall exp/tri6b/decode_tgsmall_train21D.si\n",
      "steps/diagnostic/analyze_lats.sh: see stats in exp/tri6b/decode_tgsmall_train21D.si/log/analyze_alignments.log\n",
      "Overall, lattice depth (10,50,90-percentile)=(1,2,7) and mean=3.4\n",
      "steps/diagnostic/analyze_lats.sh: see stats in exp/tri6b/decode_tgsmall_train21D.si/log/analyze_lattice_depth_stats.log\n",
      "steps/decode_fmllr.sh: feature type is lda\n",
      "steps/decode_fmllr.sh: getting first-pass fMLLR transforms.\n",
      "steps/decode_fmllr.sh: doing main lattice generation phase\n",
      "steps/decode_fmllr.sh: estimating fMLLR transforms a second time.\n",
      "steps/decode_fmllr.sh: doing a final pass of acoustic rescoring.\n",
      "steps/diagnostic/analyze_lats.sh --cmd run.pl exp/tri6b/graph_tgsmall exp/tri6b/decode_tgsmall_train21D\n",
      "steps/diagnostic/analyze_lats.sh: see stats in exp/tri6b/decode_tgsmall_train21D/log/analyze_alignments.log\n",
      "Overall, lattice depth (10,50,90-percentile)=(1,2,5) and mean=2.6\n",
      "steps/diagnostic/analyze_lats.sh: see stats in exp/tri6b/decode_tgsmall_train21D/log/analyze_lattice_depth_stats.log\n"
     ]
    }
   ],
   "source": [
    "steps/decode_fmllr.sh --nj 1 --cmd run.pl exp/tri6b/graph_tgsmall data/train21b exp/tri6b/decode_tgsmall_train21D"
   ]
  },
  {
   "cell_type": "code",
   "execution_count": null,
   "id": "3fe79a3f",
   "metadata": {
    "vscode": {
     "languageId": "shellscript"
    }
   },
   "outputs": [
    {
     "name": "stdout",
     "output_type": "stream",
     "text": [
      "zoe-a-1 THERE IS MORE THAN ONE CAPITALIZED VOWEL \n",
      "zoe-a-10 THERE ARE NO CAPITALIZED LETTERS \n",
      "zoe-a-2 A CONSONANT IMMEDIATELY PRECEDES EVERY VOWEL \n",
      "zoe-a-3 LETTER TO IS AT THE CAPITAL OR LETTER THREE IS UNIQUE \n",
      "zoe-a-4 ALL CAPITALIZED VOWELS ARE FINAL \n",
      "zoe-a-5 AT LEAST ONE GLIDE IS REPEATED \n",
      "zoe-a-6 THERE ARE VOICED CONSONANTS \n",
      "zoe-a-7 ALL VOWELS ARE CAPITALIZED AND ALL CONSONANTS ARE NOT CAPITALIZED \n",
      "zoe-a-8 ONLY GLIDES ARE REPEATED \n",
      "zoe-a-9 A VOWEL IS ADJACENT TO EVERY CONSONANT \n"
     ]
    }
   ],
   "source": [
    "egrep '^zoe-a' exp/tri6b/decode_tgsmall_train21D.si/log/decode.1.log | head "
   ]
  },
  {
   "attachments": {},
   "cell_type": "markdown",
   "id": "60d1e2c9",
   "metadata": {},
   "source": [
    "Constraining the vocabulary makes the results substantially better."
   ]
  },
  {
   "attachments": {},
   "cell_type": "markdown",
   "id": "46296a6f",
   "metadata": {},
   "source": [
    "## Lattices"
   ]
  },
  {
   "cell_type": "code",
   "execution_count": null,
   "id": "c33ea639",
   "metadata": {
    "vscode": {
     "languageId": "shellscript"
    }
   },
   "outputs": [
    {
     "name": "stdout",
     "output_type": "stream",
     "text": [
      "/projects/speech/ASR/kaldi/egs/librispeech/s5-mats\n",
      "-r--r--r-- 1 mr249 en-cl-kuno-users 14M Apr 26 14:13 exp/tri6b/decode_tgsmall_train21.si/lat.1\n"
     ]
    }
   ],
   "source": [
    "cd $LIBRISPEECH\n",
    "pwd\n",
    "ls -lth exp/tri6b/decode_tgsmall_train21.si/lat.1"
   ]
  },
  {
   "cell_type": "code",
   "execution_count": null,
   "id": "5a3f9753",
   "metadata": {
    "vscode": {
     "languageId": "shellscript"
    }
   },
   "outputs": [
    {
     "name": "stdout",
     "output_type": "stream",
     "text": [
      "lattice-copy ark:exp/tri6b/decode_tgsmall_train21.si/lat.1 ark,t:- \n",
      "aiden-a-1 \n",
      "0\t1\t9376\t9.41016,2273.59,4_1_1_1_1_1_1_1_1_1_1_1_1_1_1_1_1_1_1_1_1_1_1_1_1_1_1_1_1_1_16_18_4220_4219_4219_4219_4219_4264_4263_4263_4263_4263_4263_4263_4263_4263_4348_4347_4347_4347_65914_65913_65913_65913_66126\n",
      "1\t2\t100139\t8.92291,2550.22,66125_66125_66125_66125_66125_66236_66235_66235_52546_52584_52692_52691_52691_49098_49097_49097_49097_49134_49133_49133_49133_49270_49269_64028_64027_64027_64202_64201_64201_64324_64323_65762_65761_66104_66103_66103_66142_66141_66141_66141_66141_73858_73857_73857_73970_73969_73969\n",
      "2\t3\t125608\t8.84723,825.419,73969_73969_74020_11048_11152_11334_55718_55717_55717_55717_55717_55717_55717_55717_55717_55717\n",
      "3\t4\t191262\t10.1287,1524.04,55804_55803_55930_55929_72928_72927_72927_73022_73086_73085_73085_73085_73085_16546_16545_16545_16545_16545_16572_16571_16571_16571_16571_16590_16589_16589_16589_16589_16589_16589_8988_8987_8987_8987_8987_8987_8987_8987_8987_8987_8987_8987_9384_9488_52812_52811\n",
      "3\t9\t191264\t20.0894,4697.21,55804_55803_55930_55929_72928_72927_72927_73022_73086_73085_73085_73085_73085_16546_16545_16545_16545_16545_16572_16571_16571_16571_16571_16590_16589_16589_16589_16589_16589_16589_8988_8987_8987_8987_8987_8987_8987_8987_8987_8987_8987_8987_9384_9488_53166_53165_53214_53213_53213_53213_53346_53345_53345_53345_53345_53345_53345_53345_53345_53345_53345_53345_75424_75608_75607_75607_75607_75628_75627_75627_75627_51218_51217_51304_51303_51303_51422_51421_51421_51421_4602_4601_4601_4698_4718_4717_4717_4717_61424_61423\n",
      "3\t9\t18781\t20.9328,4712.57,55742_55741_55741_55904_55903_20498_20497_20570_20569_20569_20620_59250_59249_59249_59249_59249_59249_59249_59249_59249_59249_59249_59320_59319_59319_59319_59319_59319_59319_59319_59319_59319_59319_59319_59344_59343_59343_59343_59343_59343_59343_59343_59343_59343_59343_59343_59343_59343_59343_59343_59343_8888_8887_8887_8887_8887_8887_8887_9272_9271_9271_9520_75468_75608_75607_75607_75607_75628_75627_75627_75627_51218_51217_51304_51303_51303_51422_51421_51421_51421_4602_4601_4601_4698_4718_4717_4717_4717_61424_61423\n",
      "3\t9\t20655\t19.7826,4733.24,55742_55741_55741_55904_55903_20498_20497_20536_20535_20602_20601_20601_16526_16525_16525_16525_16525_16572_16571_16571_16571_16571_16571_16571_16604_16603_16603_16603_16603_16603_16603_16603_53154_53153_53153_53153_53153_53153_53153_53153_53153_53153_53153_53153_53153_53153_53214_53213_53213_53213_53346_53345_53345_53345_53345_53345_53345_53345_53345_53345_53345_53345_75424_75608_75607_75607_75607_75628_75627_75627_75627_51218_51217_51304_51303_51303_51422_51421_51421_51421_4602_4601_4601_4698_4718_4717_4717_4717_61424_61423\n",
      "3\t9\t65352\t18.6308,4751.9,55806_55805_55805_55906_55905_55905_35620_35664_35764_35763_35763_35763_16546_16545_16545_16545_16545_16545_16572_16571_16571_16571_16571_16571_16604_16603_16603_16603_16603_16603_16603_16603_53154_53153_53153_53153_53153_53153_53153_53153_53153_53153_53153_53153_53153_53153_53214_53213_53213_53213_53346_53345_53345_53345_53345_53345_53345_53345_53345_53345_53345_53345_75424_75608_75607_75607_75607_75628_75627_75627_75627_51218_51217_51304_51303_51303_51422_51421_51421_51421_4602_4601_4601_4698_4718_4717_4717_4717_61424_61423\n",
      "3\t9\t20664\t18.5506,4753.28,55742_55741_55741_55904_55903_20498_20497_20536_20535_20602_20601_20601_16526_16525_16525_16525_16525_16558_16557_16557_16557_16557_16580_16579_16579_16579_16579_16579_16579_16579_16579_16579_16579_16579_16579_16579_16579_16579_16579_16579_16579_16579_16579_16579_16579_16579_16579_16579_30128_30127_30127_30127_30127_30127_30127_30127_30248_30247_30247_30306_30305_75426_75608_75607_75607_75607_75607_75628_75627_75627_75627_51218_51217_51304_51303_51303_51422_51421_51421_51421_4602_4601_4601_4698_4718_4717_4717_4717_61424_61423\n",
      "WARNING (lattice-copy[5.5.950~2-085be]:WriteCompactLattice():kaldi-lattice.cc:83) Stream failure detected.\n",
      "WARNING (lattice-copy[5.5.950~2-085be]:Write():util/kaldi-table-inl.h:1057) Write failure to standard output\n",
      "ERROR (lattice-copy[5.5.950~2-085be]:Write():util/kaldi-table-inl.h:1515) Error in TableWriter::Write\n",
      "\n",
      "[ Stack-Trace: ]\n",
      "/projects/speech/ASR/kaldi/src/lib/libkaldi-base.so(kaldi::MessageLogger::LogMessage() const+0x79f) [0x7fdc141121c5]\n",
      "lattice-copy(kaldi::MessageLogger::LogAndThrow::operator=(kaldi::MessageLogger const&)+0x25) [0x55bf92ebae2f]\n",
      "lattice-copy(main+0x6c5) [0x55bf92eb9d38]\n",
      "/lib/x86_64-linux-gnu/libc.so.6(__libc_start_main+0xf3) [0x7fdc13d07083]\n",
      "lattice-copy(_start+0x2e) [0x55bf92eb7cee]\n",
      "\n",
      "WARNING (lattice-copy[5.5.950~2-085be]:Close():util/kaldi-table-inl.h:1089) Error closing stream: wspecifier is ark,t:-\n",
      "ERROR (lattice-copy[5.5.950~2-085be]:~TableWriter():util/kaldi-table-inl.h:1539) Error closing TableWriter [in destructor].\n",
      "\n",
      "[ Stack-Trace: ]\n",
      "/projects/speech/ASR/kaldi/src/lib/libkaldi-base.so(kaldi::MessageLogger::LogMessage() const+0x79f) [0x7fdc141121c5]\n",
      "lattice-copy(kaldi::MessageLogger::LogAndThrow::operator=(kaldi::MessageLogger const&)+0x25) [0x55bf92ebae2f]\n",
      "lattice-copy(kaldi::TableWriter<kaldi::CompactLatticeHolder>::~TableWriter()+0x8e) [0x55bf92ec6896]\n",
      "lattice-copy(main+0x438) [0x55bf92eb9aab]\n",
      "/lib/x86_64-linux-gnu/libc.so.6(__libc_start_main+0xf3) [0x7fdc13d07083]\n",
      "lattice-copy(_start+0x2e) [0x55bf92eb7cee]\n",
      "\n",
      "terminate called after throwing an instance of 'kaldi::KaldiFatalError'\n",
      "  what():  kaldi::KaldiFatalError\n"
     ]
    }
   ],
   "source": [
    "lattice-copy ark:exp/tri6b/decode_tgsmall_train21.si/lat.1 ark,t:- | head"
   ]
  },
  {
   "attachments": {},
   "cell_type": "markdown",
   "id": "aa2ec176",
   "metadata": {},
   "source": [
    "## Nbest"
   ]
  },
  {
   "cell_type": "code",
   "execution_count": 15,
   "id": "74206697",
   "metadata": {
    "vscode": {
     "languageId": "shellscript"
    }
   },
   "outputs": [
    {
     "name": "stdout",
     "output_type": "stream",
     "text": [
      "lattice-to-nbest --n=10 ark:exp/tri6b/decode_tgsmall_train21b.si/lat.1 ark,t:exp/tri6b/decode_tgsmall_train21D.si/nbest.10 \n",
      "LOG (lattice-to-nbest[5.5.950~2-085be]:main():lattice-to-nbest.cc:125) Done applying N-best algorithm to 349 lattices with n = 10, average actual #paths is 8.16619\n"
     ]
    }
   ],
   "source": [
    "lattice-to-nbest --n=10 ark:exp/tri6b/decode_tgsmall_train21b.si/lat.1 ark,t:exp/tri6b/decode_tgsmall_train21D.si/nbest.10"
   ]
  },
  {
   "cell_type": "code",
   "execution_count": 16,
   "id": "d4a293ad",
   "metadata": {
    "vscode": {
     "languageId": "shellscript"
    }
   },
   "outputs": [
    {
     "name": "stdout",
     "output_type": "stream",
     "text": [
      "nbest-to-linear ark,t:exp/tri6b/decode_tgsmall_train21D.si/nbest.10 ark:exp/tri6b/decode_tgsmall_train21D.si/ark,t:1.ali 'ark,t:|utils/int2sym.pl -f 2- data/lang_nosp/words.txt' \n",
      "LOG (nbest-to-linear[5.5.950~2-085be]:main():nbest-to-linear.cc:89) Done 2850 n-best entries, 0 had errors.\n"
     ]
    }
   ],
   "source": [
    "nbest-to-linear ark,t:exp/tri6b/decode_tgsmall_train21D.si/nbest.10 ark:exp/tri6b/decode_tgsmall_train21D.si/ark,t:1.ali 'ark,t:|utils/int2sym.pl -f 2- data/lang_nosp/words.txt' >  exp/tri6b/decode_tgsmall_train21D.si/10.text"
   ]
  },
  {
   "attachments": {},
   "cell_type": "markdown",
   "id": "96f5b592",
   "metadata": {},
   "source": [
    "`decode_tgsmall_train21D.si` uses the constrained vocabulary"
   ]
  },
  {
   "cell_type": "code",
   "execution_count": 19,
   "id": "ea8d8aca",
   "metadata": {
    "vscode": {
     "languageId": "shellscript"
    }
   },
   "outputs": [
    {
     "name": "stdout",
     "output_type": "stream",
     "text": [
      "aiden-a-1-1 AT LEAST ONE VOWEL IS CAPITALIZED \n",
      "aiden-a-1-2 AT LEAST ONE VOWELS CAPITALIZED \n",
      "aiden-a-10-1 THERE IS EXACTLY ONE THE T \n",
      "aiden-a-10-2 THERE IS A EXACTLY ONE THE T \n",
      "aiden-a-10-3 THERE IS THE EXACTLY ONE THE T \n",
      "aiden-a-10-4 THERE IS EXACTLY ONE T \n",
      "aiden-a-10-5 THERE IS EXACTLY ONE THAT T \n",
      "aiden-a-10-6 THERE IS A EXACTLY ONE T \n",
      "aiden-a-10-7 THERE IS THE EXACTLY ONE T \n",
      "aiden-a-10-8 THERE IS A EXACTLY ONE THAT T \n",
      "zoe-c-5-1 EVERY I THAT IS ADJACENT TO LETTER FOUR IS VOCALIZED AND UNIQUE OR FOLLOWS AT P \n",
      "zoe-c-5-2 EVERY I AT THAT IS ADJACENT TO LETTER FOUR IS VOCALIZED AND UNIQUE OR FOLLOWS AT P \n",
      "zoe-c-5-3 EVERY I THAT IS ADJACENT A LETTER FOUR IS VOCALIZED AND UNIQUE OR FOLLOWS AT P \n",
      "zoe-c-5-4 EVERY I AT THAT IS ADJACENT A LETTER FOUR IS VOCALIZED AND UNIQUE OR FOLLOWS AT P \n",
      "zoe-c-5-5 EVERY I THAT IS ADJACENT TO LETTER FOUR IS NO CAPITAL AND UNIQUE OR FOLLOWS AT P \n",
      "zoe-c-5-6 EVERY I AT THAT IS ADJACENT TO LETTER FOUR IS NO CAPITAL AND UNIQUE OR FOLLOWS AT P \n",
      "zoe-c-5-7 EVERY I THAT IS ADJACENT TO A LETTER FOUR IS VOCALIZED AND UNIQUE OR FOLLOWS AT P \n",
      "zoe-c-5-8 EVERY I AT THAT IS ADJACENT TO A LETTER FOUR IS VOCALIZED AND UNIQUE OR FOLLOWS AT P \n",
      "zoe-c-5-9 EVERY I THAT IS ADJACENT TO LETTER FOUR IS VOCALIZED AND UNIQUE OR FOLLOWS AND P \n",
      "zoe-c-5-10 EVERY I AT THAT IS ADJACENT TO LETTER FOUR IS VOCALIZED AND UNIQUE OR FOLLOWS AND P \n"
     ]
    }
   ],
   "source": [
    "head exp/tri6b/decode_tgsmall_train21D.si/10.text\n",
    "tail exp/tri6b/decode_tgsmall_train21D.si/10.text"
   ]
  },
  {
   "attachments": {},
   "cell_type": "markdown",
   "id": "6477b9e3-56c5-4a11-a696-9ecf8251a029",
   "metadata": {
    "tags": []
   },
   "source": [
    "## HCLG machine\n",
    "This is the methodology for incorporating the constrained vocabulary."
   ]
  },
  {
   "cell_type": "code",
   "execution_count": 17,
   "id": "866fe043",
   "metadata": {
    "tags": []
   },
   "outputs": [
    {
     "name": "stdout",
     "output_type": "stream",
     "text": [
      "HCLG.fst  disambig_tid.int  num_pdfs  \u001b[0m\u001b[01;34mphones\u001b[0m  phones.txt  vocab.txt  words.txt\n"
     ]
    }
   ],
   "source": [
    "cd /projects/speech/ASR/kaldi/egs/librispeech/s5-mats/exp/tri6b/graph_tgsmall\n",
    "ls"
   ]
  },
  {
   "attachments": {},
   "cell_type": "markdown",
   "id": "8b1b870c",
   "metadata": {},
   "source": [
    "##### HCLG has words on the lower side"
   ]
  },
  {
   "cell_type": "code",
   "execution_count": 18,
   "id": "86c767d0",
   "metadata": {
    "tags": []
   },
   "outputs": [
    {
     "name": "stdout",
     "output_type": "stream",
     "text": [
      "0\t7353127\t3518\tANTONIO\t16.3525391\n",
      "0\t7373968\t3524\tACCEPT\t20.2119141\n",
      "0\t7353128\t4222\tAS\t10.5117188\n",
      "0\t7353132\t4958\tANON\t16.3369141\n",
      "0\t7353139\t9770\tA\t13.6464844\n",
      "0\t7353142\t13872\tALREADY\t15.7138672\n",
      "0\t7353143\t13876\tALREADY\t13.6259766\n",
      "0\t7353158\t26462\tAS\t9.70507812\n",
      "0\t7373971\t27448\tEDUCATION\t16.0117188\n",
      "0\t7353162\t30692\tEARLY\t13.9794922\n",
      "grep: write error: Broken pipe\n"
     ]
    }
   ],
   "source": [
    " fstprint --osymbols=words.txt HCLG.fst | egrep A | head"
   ]
  },
  {
   "attachments": {},
   "cell_type": "markdown",
   "id": "bdae19c7",
   "metadata": {},
   "source": [
    "##### Collect the vocabulary"
   ]
  },
  {
   "cell_type": "code",
   "execution_count": 19,
   "id": "79eaadf8-799c-4b1b-a8ba-20184396fe8b",
   "metadata": {},
   "outputs": [
    {
     "name": "stdout",
     "output_type": "stream",
     "text": [
      "TO\n",
      "TWO\n",
      "U\n",
      "UNIQUE\n",
      "UNVOICED\n",
      "VOCALIC\n",
      "VOCALIZED\n",
      "VOICED\n",
      "VOWEL\n",
      "VOWELS\n"
     ]
    }
   ],
   "source": [
    "cd /projects/speech/ASR/kaldi/egs/librispeech/s5-mats/data/train21\n",
    "cat text | cut -f2- -d' ' | tr ' ' '\\12' | sort -u > vocab.txt\n",
    "tail vocab.txt"
   ]
  },
  {
   "cell_type": "code",
   "execution_count": 4,
   "id": "2decc662-669c-4989-b3f8-f9f8a1117579",
   "metadata": {},
   "outputs": [
    {
     "name": "stdout",
     "output_type": "stream",
     "text": [
      "THREE\n",
      "TO\n",
      "TWO\n",
      "U\n",
      "UNIQUE\n",
      "UNVOICED\n",
      "VOCALIZED\n",
      "VOICED\n",
      "VOWEL\n",
      "VOWELS\n"
     ]
    }
   ],
   "source": [
    "cd /projects/speech/ASR/kaldi/egs/librispeech/s5-mats/data/limit\n",
    "cat ../train21/text | cut -f2- -d' ' | tr ' ' '\\12' | sort -u | egrep '[A-Z]' | egrep -v '(FRICATIVE|VOCALIC)' > vocab\n",
    "tail vocab"
   ]
  },
  {
   "cell_type": "code",
   "execution_count": 11,
   "id": "530e048e-2f86-49ab-8d6d-62b40cd0d357",
   "metadata": {},
   "outputs": [
    {
     "name": "stdout",
     "output_type": "stream",
     "text": [
      "ln: failed to create hard link './words.txt': File exists\n"
     ]
    },
    {
     "ename": "",
     "evalue": "1",
     "output_type": "error",
     "traceback": []
    }
   ],
   "source": [
    "ln ../lang_nosp/words.txt ."
   ]
  },
  {
   "cell_type": "code",
   "execution_count": 5,
   "id": "608a8840-4e7d-40b6-a55f-be587faad49c",
   "metadata": {},
   "outputs": [],
   "source": [
    "cat vocab | awk '{printf(\"0 1 %s\\n\",$0)} END {printf(\"1\\n\")}' > vocab.txt.fst\n",
    "/projects/speech/ASR/kaldi/tools/openfst/bin/fstcompile --isymbols=words.txt --acceptor vocab.txt.fst vocab.bin.fst"
   ]
  },
  {
   "attachments": {},
   "cell_type": "markdown",
   "id": "5e5197b1",
   "metadata": {},
   "source": [
    "##### Machine encoding set of words"
   ]
  },
  {
   "cell_type": "code",
   "execution_count": 6,
   "id": "e35de888-ff4c-4965-b5ee-549be842b6f5",
   "metadata": {},
   "outputs": [
    {
     "name": "stdout",
     "output_type": "stream",
     "text": [
      "0 1 A\n",
      "0 1 ADJACENT\n",
      "0 1 ALL\n",
      "0 1 AND\n",
      "0 1 ANY\n",
      "0 1 ARE\n",
      "0 1 AT\n",
      "0 1 CAPITAL\n",
      "0 1 CAPITALIZED\n",
      "0 1 CENTERED\n",
      "0 1 TO\n",
      "0 1 TWO\n",
      "0 1 U\n",
      "0 1 UNIQUE\n",
      "0 1 UNVOICED\n",
      "0 1 VOCALIZED\n",
      "0 1 VOICED\n",
      "0 1 VOWEL\n",
      "0 1 VOWELS\n",
      "1\n"
     ]
    }
   ],
   "source": [
    "head vocab.txt.fst\n",
    "tail vocab.txt.fst"
   ]
  },
  {
   "attachments": {},
   "cell_type": "markdown",
   "id": "64338510",
   "metadata": {},
   "source": [
    "##### Machine representing sequences of words in the vocabulary\n",
    "The sorting is needed for subsequently composing with `HCLG`."
   ]
  },
  {
   "cell_type": "code",
   "execution_count": 16,
   "id": "f1073fb3-3ad4-4b18-aeed-f3c0cbf1bcd8",
   "metadata": {},
   "outputs": [],
   "source": [
    "/projects/speech/ASR/kaldi/tools/openfst/bin/fstclosure vocab.bin.fst words0.fst\n",
    "/projects/speech/ASR/kaldi/tools/openfst/bin/fstconcat vocab.bin.fst words0.fst words1.fst\n",
    "/projects/speech/ASR/kaldi/tools/openfst/bin/fstarcsort words1.fst words2.fst"
   ]
  },
  {
   "cell_type": "code",
   "execution_count": 17,
   "id": "69737baf-9689-488c-aaab-9b23a9c8ac15",
   "metadata": {},
   "outputs": [],
   "source": [
    "/projects/speech/ASR/kaldi/tools/openfst/bin/fstcompose /projects/speech/ASR/kaldi/egs/librispeech/s5-mats/exp/tri6b/graph_tgsmall/HCLG.fst words2.fst HCLG.new.fst"
   ]
  },
  {
   "attachments": {},
   "cell_type": "markdown",
   "id": "8092cfd0",
   "metadata": {},
   "source": [
    "Decoding with the constrained vocabulary was covered above."
   ]
  },
  {
   "attachments": {},
   "cell_type": "markdown",
   "id": "ce946cbd-3a0f-4a46-acf2-c51b7c009a36",
   "metadata": {},
   "source": [
    "### Create Nbest 100 for the restricted vocabulary\n",
    "This is a basis for parsing."
   ]
  },
  {
   "cell_type": "code",
   "execution_count": 20,
   "id": "7a2f44c5",
   "metadata": {
    "vscode": {
     "languageId": "shellscript"
    }
   },
   "outputs": [
    {
     "name": "stdout",
     "output_type": "stream",
     "text": [
      "# Double relevant things from defaults.\n",
      "first_beam=20.0\n",
      "first_max_active=4000\n",
      "max_active=14000\n",
      "beam=26.0\n",
      "lattice_beam=12.0\n"
     ]
    }
   ],
   "source": [
    "cd $LIBRISPEECH\n",
    "cat conf/decode.2.config"
   ]
  },
  {
   "cell_type": "code",
   "execution_count": 24,
   "id": "1864be44",
   "metadata": {
    "vscode": {
     "languageId": "shellscript"
    }
   },
   "outputs": [],
   "source": [
    "# Swap in the constrained vocabulary\n",
    "cp exp/tri6b/graph_tgsmall/HCLG.new.fst exp/tri6b/graph_tgsmall/HCLG.fst"
   ]
  },
  {
   "cell_type": "code",
   "execution_count": 25,
   "id": "f72377c6",
   "metadata": {
    "vscode": {
     "languageId": "shellscript"
    }
   },
   "outputs": [
    {
     "name": "stdout",
     "output_type": "stream",
     "text": [
      "steps/decode_fmllr.sh --config conf/decode.2.config --nj 1 --cmd run.pl exp/tri6b/graph_tgsmall data/train21b exp/tri6b/decode_tgsmall_train21F\n",
      "steps/decode.sh --scoring-opts  --num-threads 1 --skip-scoring false --acwt 0.083333 --nj 1 --cmd run.pl --beam 20.0 --model exp/tri6b/final.alimdl --max-active 4000 exp/tri6b/graph_tgsmall data/train21b exp/tri6b/decode_tgsmall_train21F.si\n",
      "decode.sh: feature type is lda\n",
      "steps/diagnostic/analyze_lats.sh --cmd run.pl exp/tri6b/graph_tgsmall exp/tri6b/decode_tgsmall_train21F.si\n",
      "steps/diagnostic/analyze_lats.sh: see stats in exp/tri6b/decode_tgsmall_train21F.si/log/analyze_alignments.log\n",
      "Overall, lattice depth (10,50,90-percentile)=(1,2,11) and mean=4.8\n",
      "steps/diagnostic/analyze_lats.sh: see stats in exp/tri6b/decode_tgsmall_train21F.si/log/analyze_lattice_depth_stats.log\n",
      "steps/decode_fmllr.sh: feature type is lda\n",
      "steps/decode_fmllr.sh: getting first-pass fMLLR transforms.\n",
      "steps/decode_fmllr.sh: doing main lattice generation phase\n",
      "steps/decode_fmllr.sh: estimating fMLLR transforms a second time.\n",
      "steps/decode_fmllr.sh: doing a final pass of acoustic rescoring.\n",
      "steps/diagnostic/analyze_lats.sh --cmd run.pl exp/tri6b/graph_tgsmall exp/tri6b/decode_tgsmall_train21F\n",
      "steps/diagnostic/analyze_lats.sh: see stats in exp/tri6b/decode_tgsmall_train21F/log/analyze_alignments.log\n",
      "Overall, lattice depth (10,50,90-percentile)=(2,6,34) and mean=16.3\n",
      "steps/diagnostic/analyze_lats.sh: see stats in exp/tri6b/decode_tgsmall_train21F/log/analyze_lattice_depth_stats.log\n"
     ]
    }
   ],
   "source": [
    "# Decode with more generous parameters and the constrained vocabulary\n",
    "# This took 37m!\n",
    "steps/decode_fmllr.sh --config conf/decode.2.config --nj 1 --cmd run.pl exp/tri6b/graph_tgsmall data/train21b exp/tri6b/decode_tgsmall_train21F"
   ]
  },
  {
   "cell_type": "code",
   "execution_count": 27,
   "id": "94f5343f",
   "metadata": {
    "vscode": {
     "languageId": "shellscript"
    }
   },
   "outputs": [
    {
     "name": "stdout",
     "output_type": "stream",
     "text": [
      "lattice-to-nbest --n=100 ark:exp/tri6b/decode_tgsmall_train21F.si/lat.1 ark,t:exp/tri6b/decode_tgsmall_train21F.si/nbest.100 \n",
      "LOG (lattice-to-nbest[5.5.950~2-085be]:main():lattice-to-nbest.cc:125) Done applying N-best algorithm to 363 lattices with n = 100, average actual #paths is 57.0909\n"
     ]
    }
   ],
   "source": [
    "# cat exp/tri6b/decode_tgsmall_train21F.si/lat.1.gz | gzip -d > exp/tri6b/decode_tgsmall_train21F.si/lat.1\n",
    "# What is the difference between decode_tgsmall_train21F and decode_tgsmall_train21F.si?\n",
    "lattice-to-nbest --n=100 ark:exp/tri6b/decode_tgsmall_train21F.si/lat.1 ark,t:exp/tri6b/decode_tgsmall_train21F.si/nbest.100"
   ]
  },
  {
   "cell_type": "code",
   "execution_count": 28,
   "id": "cd27b2df",
   "metadata": {
    "vscode": {
     "languageId": "shellscript"
    }
   },
   "outputs": [
    {
     "name": "stdout",
     "output_type": "stream",
     "text": [
      "nbest-to-linear ark,t:exp/tri6b/decode_tgsmall_train21F.si/nbest.100 ark:exp/tri6b/decode_tgsmall_train21F.si/ark,t:1.ali 'ark,t:|utils/int2sym.pl -f 2- data/lang_nosp/words.txt' \n",
      "LOG (nbest-to-linear[5.5.950~2-085be]:main():nbest-to-linear.cc:89) Done 20724 n-best entries, 0 had errors.\n"
     ]
    }
   ],
   "source": [
    "nbest-to-linear ark,t:exp/tri6b/decode_tgsmall_train21F.si/nbest.100 ark:exp/tri6b/decode_tgsmall_train21F.si/ark,t:1.ali 'ark,t:|utils/int2sym.pl -f 2- data/lang_nosp/words.txt' >  exp/tri6b/decode_tgsmall_train21F.si/text.100"
   ]
  },
  {
   "cell_type": "code",
   "execution_count": 31,
   "id": "62066b60",
   "metadata": {
    "vscode": {
     "languageId": "shellscript"
    }
   },
   "outputs": [
    {
     "name": "stdout",
     "output_type": "stream",
     "text": [
      "aiden-a-2-1 SOME VOWEL THAT IS NOT CAPITALIZED \n",
      "aiden-a-2-2 SOME VOWELS IS NOT CAPITALIZED \n",
      "aiden-a-2-3 SOME VOWELS THAT IS NOT CAPITALIZED \n",
      "aiden-a-2-4 THE SOME VOWELS IS NOT CAPITALIZED \n",
      "aiden-a-2-5 THE SOME VOWELS THAT IS NOT CAPITALIZED \n",
      "aiden-a-2-6 SOME VOWEL IS NOT CAPITALIZED \n",
      "aiden-a-2-7 SOME VOWEL THAT IS NOT A CAPITALIZED \n",
      "aiden-a-2-8 SOME VOWELS IS NOT A CAPITALIZED \n",
      "aiden-a-2-9 SOME VOWEL THAT IS NOT CAPITAL \n",
      "aiden-a-2-10 SOME VOWELS IS NOT CAPITAL \n",
      "aiden-a-2-11 SOME ALL THAT IS NOT CAPITALIZED \n",
      "aiden-a-2-12 SOME VOWELS THAT IS NOT A CAPITALIZED \n"
     ]
    }
   ],
   "source": [
    "egrep '^aiden-a-2' exp/tri6b/decode_tgsmall_train21F.si/text.100 | head -12"
   ]
  },
  {
   "attachments": {},
   "cell_type": "markdown",
   "id": "b8d8843f",
   "metadata": {},
   "source": [
    "The above file should be a good starting point for parsing.  See the next notebook.\n",
    "text.100 has varying number of options for different UIDs.  What determines it?"
   ]
  },
  {
   "cell_type": "markdown",
   "id": "64ec07b1",
   "metadata": {},
   "source": []
  }
 ],
 "metadata": {
  "kernelspec": {
   "display_name": "Bash",
   "language": "bash",
   "name": "bash"
  },
  "language_info": {
   "codemirror_mode": "shell",
   "file_extension": ".sh",
   "mimetype": "text/x-sh",
   "name": "bash"
  }
 },
 "nbformat": 4,
 "nbformat_minor": 5
}
