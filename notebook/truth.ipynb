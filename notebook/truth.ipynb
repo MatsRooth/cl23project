{
 "cells": [
  {
   "cell_type": "code",
   "execution_count": 2,
   "metadata": {},
   "outputs": [],
   "source": [
    "import nltk\n",
    "from nltk import CFG\n",
    "from nltk import grammar, parse\n",
    "from nltk.parse import load_parser\n",
    "from nltk.parse.generate import generate\n",
    "import random\n",
    "import re\n",
    "import operator\n",
    "import editdistance"
   ]
  },
  {
   "cell_type": "code",
   "execution_count": 3,
   "metadata": {},
   "outputs": [
    {
     "data": {
      "text/plain": [
       "<nltk.parse.featurechart.FeatureChartParser at 0x7f444823afa0>"
      ]
     },
     "execution_count": 3,
     "metadata": {},
     "output_type": "execute_result"
    }
   ],
   "source": [
    "s5 = '/projects/speech/ASR/kaldi/egs/librispeech/s5-mats'\n",
    "data = s5 + '/data'\n",
    "exp = s5 + '/exp'\n",
    "train21 = data + '/train21'\n",
    "\n",
    "g1_path = s5 + '/grammar/g1.fcfg'\n",
    "\n",
    "truth_path = train21 + '/truth'\n",
    "\n",
    "p1 = load_parser(g1_path, trace=0,cache=False)\n",
    "\n",
    "def sentence_parses(s,parser):\n",
    "    try:\n",
    "        if next(parser.parse(s)):\n",
    "            return True\n",
    "    except:\n",
    "        return False\n",
    "\n",
    "p1"
   ]
  },
  {
   "attachments": {},
   "cell_type": "markdown",
   "metadata": {},
   "source": [
    "#### Illustrate the parser\n",
    "Trees don't work with this Python and NLTK version.  Notice that the grammar uses non-capitalized terminals."
   ]
  },
  {
   "cell_type": "code",
   "execution_count": 4,
   "metadata": {},
   "outputs": [
    {
     "name": "stdout",
     "output_type": "stream",
     "text": [
      "(S[SEM=<all n.(exists c.(vowel(c) & char(n,c)) -> exists c.(capital(n) & char(n,c)))>]\n",
      "  (DP[NUM='sg', SEM=<\\Q.all n.(exists c.(vowel(c) & char(n,c)) -> Q(n))>, STR='yes']\n",
      "    (Det[NUM='sg', SEM=<\\P Q.all n.(P(n) -> Q(n))>, STR='yes'] every)\n",
      "    (N[NUM='sg', SEM=<\\n.exists c.(vowel(c) & char(n,c))>] vowel))\n",
      "  (VP[NUM='sg', SEM=<\\n.exists c.(capital(n) & char(n,c))>]\n",
      "    (V[NUM='sg', SEM=<\\n.exists c.char(n,c)>] is)\n",
      "    (A[SEM=<\\n.exists c.(capital(n) & char(n,c))>] capitalized)))\n"
     ]
    }
   ],
   "source": [
    "print(next(p1.parse('every vowel is capitalized'.split())))"
   ]
  },
  {
   "attachments": {},
   "cell_type": "markdown",
   "metadata": {},
   "source": [
    "#### Best sentences\n",
    "Some of this modified from Elise Kronblicher's 2021 project report.\n",
    "\n",
    "Read into a list the results of `lattice-to-nbest` and `nbest-to-linear`, with an $n$ of 100. See the earlier notebook."
   ]
  },
  {
   "cell_type": "code",
   "execution_count": 5,
   "metadata": {},
   "outputs": [
    {
     "name": "stdout",
     "output_type": "stream",
     "text": [
      "aiden-a-1-1 AT LEAST ONE VOWEL IS CAPITALIZED \n",
      "aiden-a-1-2 AT LEAST ONE VOWELS CAPITALIZED \n",
      "aiden-a-10-1 THERE IS EXACTLY ONE THE T \n",
      "aiden-a-10-2 THERE IS EXACTLY AT ONE T \n"
     ]
    }
   ],
   "source": [
    "! head -4 $LIBRISPEECH/exp/tri6b/decode_tgsmall_train21F.si/text.100"
   ]
  },
  {
   "cell_type": "code",
   "execution_count": 7,
   "metadata": {
    "vscode": {
     "languageId": "shellscript"
    }
   },
   "outputs": [],
   "source": [
    "best_100_path = exp + '/tri6b/decode_tgsmall_train21F.si/text.100'\n",
    "with open(best_100_path) as f:\n",
    "    best_100_lines=f.readlines()\n",
    "f.close()"
   ]
  },
  {
   "attachments": {},
   "cell_type": "markdown",
   "metadata": {},
   "source": [
    "There are a lot, because there are up to 100 readings for each audio."
   ]
  },
  {
   "cell_type": "code",
   "execution_count": 12,
   "metadata": {
    "vscode": {
     "languageId": "shellscript"
    }
   },
   "outputs": [
    {
     "name": "stdout",
     "output_type": "stream",
     "text": [
      "20724\n"
     ]
    },
    {
     "data": {
      "text/plain": [
       "['aiden-a-1-1 AT LEAST ONE VOWEL IS CAPITALIZED \\n',\n",
       " 'aiden-a-1-2 AT LEAST ONE VOWELS CAPITALIZED \\n',\n",
       " 'aiden-a-10-1 THERE IS EXACTLY ONE THE T \\n',\n",
       " 'aiden-a-10-2 THERE IS EXACTLY AT ONE T \\n',\n",
       " 'aiden-a-10-3 THERE IS A EXACTLY ONE THE T \\n',\n",
       " 'aiden-a-10-4 THERE IS THE EXACTLY ONE THE T \\n',\n",
       " 'aiden-a-10-5 THERE IS A EXACTLY AT ONE T \\n',\n",
       " 'aiden-a-10-6 THERE IS EXACTLY ONE T \\n']"
      ]
     },
     "execution_count": 12,
     "metadata": {},
     "output_type": "execute_result"
    }
   ],
   "source": [
    "print(len(best_100_lines))\n",
    "best_100_lines[0:8]"
   ]
  },
  {
   "attachments": {},
   "cell_type": "markdown",
   "metadata": {},
   "source": [
    "Create lists of UIDs with a parse, and the readings that parsed.  (Elise added the first option if there was no reading that parsed, this is left out here.)\n",
    "This run took ten minutes."
   ]
  },
  {
   "cell_type": "code",
   "execution_count": 14,
   "metadata": {
    "vscode": {
     "languageId": "shellscript"
    }
   },
   "outputs": [
    {
     "name": "stdout",
     "output_type": "stream",
     "text": [
      "['aiden-a-1', 'aiden-a-2', 'aiden-a-3'] ['AT LEAST ONE VOWEL IS CAPITALIZED', 'SOME VOWEL IS NOT CAPITALIZED', 'EVERY GLIDE PRECEDES THE VOWEL']\n"
     ]
    }
   ],
   "source": [
    "idx=[]\n",
    "for s in best_100_lines:\n",
    "    id='-'.join(s.split('-')[0:3])\n",
    "    split=s.split()\n",
    "    idx+=[[id,split[0],[s.lower() for s in split[1:]]]]\n",
    "\n",
    "good_uid=[]\n",
    "good_reading=[]\n",
    "for i in idx:\n",
    "    if i[0] not in good_uid:\n",
    "        if sentence_parses(i[2],p1):\n",
    "            good_uid+=[i[0]]\n",
    "            good_reading+=[' '.join(w.upper() for w in i[2])]\n",
    "#for i in idx:\n",
    "#    if i[0] not in files:\n",
    "#        files+=[i[0]]\n",
    "#        sents+=[' '.join(w.upper() for w in i[2])]\n",
    "print(good_uid[0:3],good_reading[0:3])"
   ]
  },
  {
   "cell_type": "code",
   "execution_count": 15,
   "metadata": {
    "vscode": {
     "languageId": "shellscript"
    }
   },
   "outputs": [
    {
     "name": "stdout",
     "output_type": "stream",
     "text": [
      "182\n"
     ]
    }
   ],
   "source": [
    "print(len(good_uid))"
   ]
  },
  {
   "attachments": {},
   "cell_type": "markdown",
   "metadata": {},
   "source": [
    "This is kind of medium, a reading that parses if found for 182 out of 349 items."
   ]
  },
  {
   "cell_type": "code",
   "execution_count": 17,
   "metadata": {
    "vscode": {
     "languageId": "shellscript"
    }
   },
   "outputs": [],
   "source": [
    "\n",
    "# This saves the results of the slow code above.  It has the best reading for each uid.\n",
    "# It leaves out the items that did not have a parsing option.\n",
    "f = open(train21 + 'recognized', \"w\")\n",
    "for i in range(len(good_uid)):\n",
    "    f.write(good_uid[i]+\" \"+good_reading[i]+\"\\n\")\n",
    "f.close()\n",
    "\n"
   ]
  },
  {
   "attachments": {},
   "cell_type": "markdown",
   "metadata": {},
   "source": [
    "## Code for models"
   ]
  },
  {
   "cell_type": "code",
   "execution_count": 18,
   "metadata": {
    "vscode": {
     "languageId": "shellscript"
    }
   },
   "outputs": [],
   "source": [
    "import nltk\n",
    "from nltk import grammar, parse, load_parser\n",
    "from typing import Callable, List, Set\n",
    "import re\n",
    "\n",
    "###This code from Akash Aryal's model generator \n",
    "\n",
    "vowels = ['a', 'e', 'i', 'o', 'u']\n",
    "fricatives = ['v', 'f', 's', 'z', 'h', 'th', 'sh', 'zh']\n",
    "              \n",
    "#def vowel(word,i):\n",
    "#    return word[i].lower() in vowels\n",
    "#get_vowel = lambda word: f'vowel => {set([i+1 for i in range(len(word)) if vowel(word,i)])}'\n",
    "\n",
    "def capital(word, i):\n",
    "    return word[i].isupper()\n",
    "get_capital = lambda word: f'capital => {set([i+1 for i in range(len(word)) if capital(word,i)])}'\n",
    "\n",
    "def less_than(i, j):\n",
    "    return i<j\n",
    "get_less_than = lambda word: f'le => {set([(i+1,j+1) for i in range(len(word)) for j in range(len(word)) if i!=j and less_than(i+1,j+1)])}'\n",
    "\n",
    "def adjacent(i,j):\n",
    "    return abs(i-j) == 1\n",
    "get_adjacent = lambda word: f'ad => {set([(i+1,j+1) for i in range(len(word)) for j in range(len(word)) if adjacent(i+1,j+1)])}'\n",
    "\n",
    "get_even =  lambda word: f'even => {set([i+1 for i in range(len(word)) if (i+1)%2==0])}'\n",
    "\n",
    "get_odd = lambda word: f'odd => {set([i+1 for i in range(len(word)) if (i+1)%2!=0])}'\n",
    "\n",
    "# @323\n",
    "def voiced(word):\n",
    "    word=word.lower()\n",
    "    v=[]\n",
    "    for i in range(len(word)):\n",
    "        if i != len(word)-1:\n",
    "            if (word[i] == 'n' and word[i+1]=='g') or (word[i] == 's' and word[i+1] == 'z'):\n",
    "                v.append((i+1, word[i]))\n",
    "                v.append((i+2, word[i+1]))\n",
    "        if word[i] == 'z':\n",
    "            if ((i,'s') not in v):\n",
    "                v.append((i+1, 'z'))\n",
    "        if word[i] == 'g':\n",
    "            if ((i,'n') not in v):\n",
    "                v.append((i+1, 'g'))\n",
    "        if word[i] == 'n':\n",
    "            if ((i+2,'g') not in v):\n",
    "                v.append((i+1,'n'))\n",
    "        if word[i] in ['a', 'e', 'i', 'o', 'u', 'b', 'd', 'j', 'l', 'm', 'r', 'v', 'w', 'y']:\n",
    "            v.append((i+1, word[i]))\n",
    "    return v\n",
    "            \n",
    "get_voiced= lambda w: f'voiced => {set([(i+1,w[i].lower()) for i in range(len(w)) if (i+1, w[i].lower()) in voiced(w)])}'\n",
    "\n",
    "def centered(word,i):\n",
    "    if (len(word)%2==0):\n",
    "        return len(word)//2 == i or i == len(word)//2 + 1\n",
    "    else:\n",
    "        return len(word)//2 + 1 == i\n",
    "\n",
    "get_centered = lambda word: f'cent => {set([i+1 for i in range(len(word)) if centered(word,i+1)])}'\n",
    "\n",
    "get_mirrored = lambda w: f'mirrored => {set(i+1 for i in range(len(w)) if w[i].lower() == w[len(w)-1-i].lower())}'\n",
    "\n",
    "get_glide =  lambda w: f'glide => {set(i+1 for i in range(len(w)) if w[i].lower() == \"w\" or w[i].lower() == \"y\")}'\n",
    "\n",
    "# from @325\n",
    "def fricatives(word):\n",
    "    word.lower()\n",
    "    frics = []\n",
    "    for i in range(len(word)):\n",
    "        if i != len(word)-1:\n",
    "            if word[i] in ['t', 's', 'z'] and word[i+1] == 'h':\n",
    "                frics.append((i+1, word[i]))\n",
    "                frics.append((i+2, 'h'))\n",
    "        if word[i] == 'h':\n",
    "            if ((i, 't') not in frics) and ((i, 's') not in frics) and ((i, 'z') not in frics):\n",
    "                frics.append((i+1, 'h'))\n",
    "        if word[i] in ['s', 'z']:\n",
    "            if ((i+2, 'h') not in frics):\n",
    "                frics.append((i+1, word[i]))\n",
    "        if word[i] in ['v', 'f']:\n",
    "            frics.append((i+1, word[i]))\n",
    "        return frics\n",
    "get_fricative = lambda w: f'fricative => {set([(i+1,w[i].lower()) for i in range(len(w)) if (i+1, w[i].lower()) in fricatives(w)])}'\n",
    "\n",
    "##Code by Angela Liu from HW3\n",
    "def to_model_str(word: str, special_rels: List[Callable[[str], str]]=[]) -> str:\n",
    "    \"\"\"\n",
    "    Creates the string form of the model for the input word. This string is meant to be passed to `nltk.Valuation.fromstring`.\n",
    "    By default, the function will only add the relations mapping i => i for i from 1 to the length of `word` and a relation \n",
    "    mapping char => the set of tuples (i, word[i]). The `special_rels` function allows you to specify additional relations to \n",
    "    be added to the valuation string.\n",
    "    \n",
    "    :param word: The word to create a model string for.\n",
    "    :param special_rels: A list of functions that when called return a string of the form {relation_name} => {relation_contents}. Defaults to the empty list.\n",
    "    :returns: a string representing the model for word\n",
    "    \"\"\"\n",
    "    n = len(word)\n",
    "    model_str = []\n",
    "    char = []\n",
    "    for i in range(1, n+1):\n",
    "        model_str.append(f'{i} => {i}')\n",
    "        char.append((i, word[i-1]))\n",
    "    model_str.append(f'char => {set(char)}'.lower())\n",
    "    return '\\n'.join(model_str + [rel(word) for rel in special_rels]).replace(\"'\", \"\")\n",
    "    # Angela Liu\n",
    "\n",
    "def emptysets(val:nltk.sem.evaluate.Valuation):\n",
    "    val.update([(k,set()) for (k,v) in val.items() if v == 'set()'])\n",
    "    \n",
    "\n"
   ]
  },
  {
   "cell_type": "code",
   "execution_count": 24,
   "metadata": {
    "vscode": {
     "languageId": "shellscript"
    }
   },
   "outputs": [
    {
     "name": "stdout",
     "output_type": "stream",
     "text": [
      "capital => {8, 2, 4, 6}\n",
      "1 => 1\n",
      "2 => 2\n",
      "3 => 3\n",
      "4 => 4\n",
      "5 => 5\n",
      "char => {(4, s), (2, a), (1, b), (5, f), (3, t)}\n",
      "capital => {2, 4}\n",
      "le => {(2, 4), (1, 2), (3, 4), (1, 5), (1, 4), (2, 3), (4, 5), (2, 5), (1, 3), (3, 5)}\n",
      "ad => {(1, 2), (2, 1), (3, 4), (4, 3), (5, 4), (2, 3), (4, 5), (3, 2)}\n",
      "even => {2, 4}\n",
      "odd => {1, 3, 5}\n",
      "voiced => {(1, b), (2, a)}\n",
      "cent => {3}\n",
      "mirrored => {3}\n",
      "glide => set()\n",
      "fricative => set()\n"
     ]
    }
   ],
   "source": [
    "print(get_capital('aDvOcAtEf'))\n",
    "print(to_model_str(\"bAtSf\",[get_capital, get_less_than, get_adjacent, get_even, get_odd, \n",
    "                                                   get_voiced, get_centered, get_mirrored, get_glide, get_fricative]))"
   ]
  },
  {
   "attachments": {},
   "cell_type": "markdown",
   "metadata": {},
   "source": [
    "### Truth checking\n",
    "From E.K."
   ]
  },
  {
   "cell_type": "code",
   "execution_count": 25,
   "metadata": {
    "vscode": {
     "languageId": "shellscript"
    }
   },
   "outputs": [
    {
     "name": "stdout",
     "output_type": "stream",
     "text": [
      "/projects/speech/ASR/kaldi/egs/librispeech/s5-mats/data/train21/truth\n",
      "/projects/speech/ASR/kaldi/egs/librispeech/s5-mats/result/result1\n"
     ]
    }
   ],
   "source": [
    "truth_path = train21 + '/truth'\n",
    "result_path = s5 + '/result/result1'\n",
    "print(truth_path)\n",
    "print(result_path)"
   ]
  },
  {
   "cell_type": "code",
   "execution_count": 26,
   "metadata": {
    "vscode": {
     "languageId": "shellscript"
    }
   },
   "outputs": [],
   "source": [
    "def check_truth(truthpath,resultpath,grammarpath):\n",
    "    \"\"\"\n",
    "    Compares the truth values from user's generated tests to those produced from from the truth page. Iterates through the truth file\n",
    "    one sentence at a time\n",
    "     \n",
    "    \n",
    "    :param: Results are in the same format as a text file\"\n",
    "    \"\"\"\n",
    "    \n",
    "    ##User needs to provide their own truth and text paths\n",
    "    \n",
    "    gram_lst=[]\n",
    "    after_assign=[]\n",
    "    after_calc=[]\n",
    "    before_calc=[]\n",
    "    text = open(resultpath)\n",
    "    truth = open(truthpath)\n",
    "    sentences = []\n",
    "    truthTests = []\n",
    "    for l, t in zip(text, truth):\n",
    "        truthTests.append(t.strip('\\n').split(\" \"))\n",
    "        sentences.append(l.split(\" \", 1)[0])\n",
    "        sentences.append(l.split(\" \", 1)[1].strip('\\n').strip())\n",
    "    \n",
    "    pr = nltk.load_parser(grammarpath, trace=0,cache=False)\n",
    "    #Magic, do not touch! Cannot parse sentences without this line!\n",
    "    get_vowel = lambda w: f'vowel => {set(re.findall(r\"[AEIOUaeiou]\", w))}'.lower()\n",
    "    \n",
    "    numCorrect = 0 \n",
    "    numGuessedCorrect=0\n",
    "    numTests = 0\n",
    "    for t in truthTests:\n",
    "        words = []\n",
    "        truths = []\n",
    "        sentence = sentences[sentences.index(t[0])+1].lower()\n",
    "        print(sentence)\n",
    "        \n",
    "        for i in range(1, len(t)):\n",
    "                if (i % 2 == 1):\n",
    "                    words.append(t[i])\n",
    "                    \n",
    "                else :\n",
    "                    if(t[i] == 't'): \n",
    "                        truths.append('True')\n",
    "                        numTests+=1\n",
    "                    elif(t[i] == 'f'): \n",
    "                        truths.append('False')\n",
    "                        numTests+=1\n",
    "                    elif(t[i] == 'u'): truths.append('Undefined')\n",
    "                    else: print(\"Check the format of your truth file, \"+t[i])\n",
    "        try:\n",
    "            formula = next(pr.parse(sentence.split())).label()['SEM']\n",
    "            gram_lst+=[sentence]\n",
    "               \n",
    "            equals = lambda w: f'eq => {set([(i+1,i+1) for i in range(len(w))])}'\n",
    "            vals = [nltk.Valuation.fromstring(to_model_str(w, [get_vowel, get_capital, get_less_than, get_adjacent, get_even, get_odd, \n",
    "                                                   get_voiced, get_centered, get_mirrored, get_glide, get_fricative])) for w in words]\n",
    "            assignments = [nltk.Assignment(val.domain) for val in vals]\n",
    "            for val in vals: emptysets(val)\n",
    "            models = [nltk.Model(val.domain, val) for val in vals]\n",
    "            after_assign+=[sentence]\n",
    "            for w, a, m, t in zip(words, assignments, models, truths):\n",
    "                \n",
    "                calculated = m.evaluate(str(formula),a)\n",
    "                \n",
    "                #I left in some useful print statements if you want to see a breakdown of the results\n",
    "                #print(f'{w}\\nexpected: {t} calculated: {calculated}\\n----------------\\n')\n",
    "                if(t != \"Undefined\"):\n",
    "                    #print(f\"truth file: {t} calculated: {calculated}\")\n",
    "                    if(t == str(calculated)): numCorrect+=1\n",
    "                \n",
    "            \n",
    "        except:\n",
    "            for t in truths:\n",
    "                if t=='False': numGuessedCorrect+=1\n",
    "#             print(\"\\nYour sentence '\" + sentence + \"' is ungrammatical\")\n",
    "            \n",
    "        \n",
    "    print(f\"\\n{numCorrect+numGuessedCorrect} out of {numTests}\\nTruth value error rate: {1-(numCorrect+numGuessedCorrect)/numTests}\")\n",
    "    print(numCorrect)\n",
    "    print(numGuessedCorrect)\n",
    "    print(numTests)\n",
    "    "
   ]
  },
  {
   "cell_type": "code",
   "execution_count": null,
   "metadata": {
    "vscode": {
     "languageId": "shellscript"
    }
   },
   "outputs": [],
   "source": []
  },
  {
   "cell_type": "code",
   "execution_count": 27,
   "metadata": {
    "vscode": {
     "languageId": "shellscript"
    }
   },
   "outputs": [
    {
     "name": "stdout",
     "output_type": "stream",
     "text": [
      "there is exactly one the t\n",
      "at least one vowel is capitalized\n",
      "some vowel is not capitalized\n",
      "every glide precedes the vowel\n",
      "the letter or that precedes that letter five is a vowel\n",
      "letter three is unique\n",
      "the penultimate letter is not a vowel\n",
      "no consonant is unique\n",
      "there is at least one glide\n",
      "only letter two is unique\n",
      "all mirrored letters are not capitalized\n",
      "some unique letter is capitalized\n",
      "there is at least one vowel\n",
      "more than one p is mirrored\n",
      "every even letter is a vowel\n",
      "a letter three follows some the unique consonant\n",
      "only letter two immediately precedes a vowel\n",
      "every penultimate letter is a vowel\n",
      "there is some glide that follows letter two\n",
      "no unique vowel is centered\n",
      "there is more than one vowel\n",
      "at least one letter all most glides\n",
      "every consonant is penultimate or consonantal\n",
      "every vowel is unique and final\n",
      "letter one is unique\n",
      "the letter one is all voiced four more k i only\n",
      "letter or two centered or repeated\n",
      "more than one vowel is capital\n",
      "no consonant immediately follows vowels\n",
      "some vowel equals than than one\n",
      "there is a vowel that is a u or final\n",
      "a u is a vowel\n",
      "every letter adjacent u u is not unique\n",
      "every letter is a vowel or unique\n",
      "every u is a vowel\n",
      "every vowel is a that capital letter\n",
      "more than one letter precedes the p\n",
      "more than one vowel follows a consonant\n",
      "some vowel is capitalized\n",
      "some vowels are capitalized\n",
      "all three to that is are voiced\n",
      "every glide precedes letter five\n",
      "at least to one most repeated that precedes letter to is capitalized\n",
      "a glide is unique\n",
      "every vowel is repeated\n",
      "at least one consonant is not capitalized\n",
      "all all three k that is precede letter three\n",
      "letter five follows letter four\n",
      "more than one the three to there the is voiced\n",
      "no vowel immediately follows the consonant\n",
      "letter three is final and is initial\n",
      "at least one vowel immediately follows a consonant\n",
      "all consonants are glides\n",
      "only letter one is capitalized\n",
      "some vowel is repeated\n",
      "every a letter that follows a consonants is not that\n",
      "no three that is precedes any vowels\n",
      "every vowel is adjacent to are vowel\n",
      "more than one letter is the vowel and is adjacent to letter three\n",
      "every capital letter is unique\n",
      "there are no consonants that directly follow all letter to or and are penultimate\n",
      "exactly two vowels are capitalized and follow a consonant\n",
      "no consonant is adjacent to glide\n",
      "the or exactly two vowels that precede four to five\n",
      "there are no vowels that are adjacent to letter three\n",
      "letter one equals letter four\n",
      "some repeated vowel precedes letter three\n",
      "there is a consonant that is penultimate and follows a vowel\n",
      "i only letter to is a vowel and adjacent to a consonant\n",
      "no vowels follow a glide\n",
      "all capital letters are consonantal\n",
      "every vowel is mirrored\n",
      "letter three is a glide or capitalized\n",
      "letter two is repeated\n",
      "every glide is final\n",
      "some capital letter is centered\n",
      "more than one vowel follows a consonant\n",
      "at least one consonant is unique\n",
      "every letter is capitalized\n",
      "a capital letter immediately precedes every vowel\n",
      "there is some vowel that follows a glide\n",
      "all glides are capitalized\n",
      "at least one letter that follows letter three is unique\n",
      "every letter is unique\n",
      "no unique letter is a vowel\n",
      "some vowel that precedes letter five is vocalized\n",
      "some letters are not vowel\n",
      "the letter that immediately precedes letter four is letters three\n",
      "the vowel that precedes a consonant is not consonantal\n",
      "there are some mirrored letters\n",
      "no vowel is a u\n",
      "every consonant is a k\n",
      "every consonant is a p\n",
      "every consonant is a t\n",
      "every vowel is a u\n",
      "letter one is a k\n",
      "letter one is a p\n",
      "no consonant is a k\n",
      "no consonant is a p\n",
      "no consonant is a t\n",
      "there are no glides\n",
      "Check the format of your truth file, \n",
      "Check the format of your truth file, \n",
      "letter four is repeated\n",
      "every p e i no is more k i least all i to is unvoiced\n",
      "every letter is mirrored\n",
      "no all the is a and to all and\n",
      "more than one the all the is at capitalized\n",
      "some letter to all that capitalized i and vocalized e\n",
      "than five than and immediately u p t and letter or three\n",
      "some that repeated the at no a vocalized a\n",
      "exactly to all consonant are capital a\n",
      "some glide that precedes letter five is capitalized\n",
      "a glide is a vowel\n",
      "some vowel that follows letter four is final\n",
      "every consonant is even\n",
      "every vowel is adjacent to letter one\n",
      "some capitalized letter is a four to to\n",
      "every glide that is adjacent to letter to is vocalized\n",
      "every vowel that follows letter three is unique\n",
      "no letters are vocalized\n",
      "every consonant that is capitalized immediately precedes a vowel\n",
      "some capitalized letters are unvoiced\n",
      "more than one letter follows letter two\n",
      "every capital letter is a vowel\n",
      "every letter is centered\n",
      "only letter three is centered\n",
      "all repeated letters are capitalized\n",
      "there is more than one consonant\n",
      "no vowel immediately follows letter two\n",
      "letter one is not unique\n",
      "a repeated letter is a vowel\n",
      "no letter that every consonant follows is capitalized\n",
      "every letter that precedes a t precedes the u\n",
      "there is exactly one letter that precedes a d\n",
      "some t immediately follows the u and immediately precedes a t\n",
      "there is at most one consonant\n",
      "letter one is final\n",
      "every letter that at t follows follows the t\n",
      "there is no capitalized u\n",
      "no consonant is repeated\n",
      "some consonant is adjacent to repeated vowel\n",
      "there is all final all letter\n",
      "all letters are voiced\n",
      "all i one to follow no consonants\n",
      "at least one glide is repeated\n",
      "and t u letter is capitalized odd consonant the\n",
      "exactly one consonant is penultimate\n",
      "letter at t e is unique\n",
      "letter four is centered and is unvoiced\n",
      "or one d letter or two more is even more\n",
      "some are or is a adjacent to letter or four\n",
      "every even letter four some all the letter is or consonant\n",
      "to more than one vowel all precedes the five consonant\n",
      "every unvoiced letter is repeated\n",
      "only capitalized letters are final\n",
      "there is at least one vowel that is capitalized\n",
      "letter three a follows a vowels four a capitalized letter\n",
      "no i immediately precedes letter four\n",
      "there is a four k to than that is centered\n",
      "there are more than one no unique glides\n",
      "all unvoiced letters are odd\n",
      "the letter one no is capital are is to or letter to is capitalized\n",
      "letter one is centered\n",
      "every letter is mirrored\n",
      "only vowels are capital is t\n",
      "letter two is capitalized exclusively or letter four is consonantal\n",
      "no consonant is capitalized\n",
      "some consonant is repeated\n",
      "letter three immediately follows letter two\n",
      "some vowel precedes the consonant\n",
      "every vowel is unique\n",
      "more than one letter is the i letter and is capitalized\n",
      "not than one equals the letter at three\n",
      "only is letters at two is not that\n",
      "a glide is adjacent to letter five\n",
      "no not is repeated\n",
      "every capital is to letter follows all are i or are glide\n",
      "some all directly at that immediately precedes at consonant\n",
      "there is at least one consonant\n",
      "all not i follows a a consonant is unique\n",
      "every is not that is is k k t is\n",
      "there are no capitalized letters\n",
      "there is more than one capitalized vowel\n",
      "a consonant immediately precedes every vowel\n",
      "letter to is a vowel capital or letter three is unique\n",
      "all capitalized vowels are final\n",
      "at least one glide is repeated\n",
      "there are a voiced consonants\n",
      "all vowels are capitalized and all consonants are not capitalized\n",
      "only glides are repeated\n",
      "a vowel is adjacent to every consonant\n",
      "there is are letter that that is final and is repeated and is at four capital\n",
      "are unique or to there that immediately precedes letter or four\n",
      "letter four equals letter five exclusively or some e is penultimate\n",
      "all letters that are capitalized follow some odd glides\n",
      "every letter or follow some four to than or at least one not glide\n",
      "every even letter is a glide or capitalized\n",
      "i not all all unvoiced glides or adjacent a letter to than\n",
      "every are not all at letter that precedes letter to is e u p\n",
      "no voiced vowel precedes not every p\n",
      "only letter four is a i and is penultimate\n",
      "not every p is adjacent to letter three\n",
      "a not all all unvoiced consonants are u i d or i final\n",
      "a letter five is a capital letter exclusively or letter to is centered or are\n",
      "every unvoiced capital letter is adjacent to letter one\n",
      "letter one to equals letter or four exclusively i letter to equals letter a one\n",
      "every p immediately follows a glide that is unique\n",
      "the more than one capitalized letter is the capital\n",
      "letter five equals letter to exclusively at there there is a five and\n",
      "at least one i is adjacent to letter five\n",
      "a p is adjacent to letter four and immediately follows the i\n",
      "all letters that are adjacent to letter two are mirrored\n",
      "and there is at t e that is a vowel or penultimate than\n",
      "only letter to the is unique and is voiced\n",
      "only vocalized k capital letters precede a a u\n",
      "some a are to vowels immediately follow a k and are repeated the\n",
      "letter one equals letter three exclusively or there is a glide exclusively or some letter is unique\n",
      "there are some three at the there is that a or voiced\n",
      "a penultimate even t is capitalized and precedes a vocalized letter\n",
      "some consonants and all five repeated some are penultimate\n",
      "at least one consonantal vowel is odd\n",
      "only letter three is a k and is odd\n",
      "every t and every p is mirrored\n",
      "no four that is are a vowel or unvoiced\n",
      "only consonantal odd letters are repeated\n",
      "all four capital letters that precede e letter three are initial\n",
      "more than one vowel follows a five to there the that is voiced\n",
      "the letter or three is equals letter or four exclusively or letter three precedes some four that the is\n",
      "not all letters that are repeated are capitalized\n",
      "not every u is mirrored exclusively u or and there is e centered a vowel\n",
      "every letter the follows all glides is and e u or consonant all\n",
      "there is a final capitalized e that is mirrored\n",
      "all repeated letters follow some voiced glides\n",
      "all glides precedes and four to there is that are mirrored\n",
      "more than one p follows some k that precedes every t\n",
      "some consonants are a glide or capitalized and are initial\n",
      "not all final glides precede a u\n",
      "every consonant is a t and follows some vowels\n",
      "some odd consonants follow at least one k\n",
      "all a and more i that at there and i even\n",
      "every is odd consonant and to some unvoiced letter a than p k and two that a two\n",
      "every e k e and every e even to even to two letter five\n",
      "no all the is a voiced and and five\n",
      "all i and the are the immediately four no or t\n",
      "all four to to is that are voiced are even\n",
      "not all consonants precede a final u\n",
      "i only unvoiced three to k is are a centered consonant or mirrored\n",
      "no letters that are consonantal precede a t or a u\n",
      "some consonants immediately follow a penultimate letter\n",
      "no consonant precedes some vowels\n",
      "letter five equals letter five at exclusively or that are five is unique\n",
      "there is a centered d a and that there is u that follows at i e\n",
      "every five is capital letter is all one all is a all are more to i least\n",
      "a is the initial unique consonant is a adjacent to letter or two\n",
      "there are some glides that are centered\n",
      "every u three to to is centered at there and is repeated\n",
      "no capital a letter all follow is at to is or are more than one all is and at least one glide\n",
      "no letter is a p and is a odd e and is a e\n",
      "more than one glide precedes letter three\n",
      "letter three equals letter two exclusively or letter two equals letter four\n",
      "some four k to is unique and is centered\n",
      "every u is capitalized and is repeated\n",
      "all vowels precede more than one glide\n",
      "all consonants are mirrored and are capitalized\n",
      "some consonants a follow at a at five and are even\n",
      "at least one vowel k all at letter immediately follows a glide\n",
      "letter three follows only capital vowels that are capital\n",
      "not only e at the and four is a i all are a unvoiced\n",
      "a t is to one repeated consonant to u k k k u is unvoiced\n",
      "a at the initial is more least consonant immediately precedes that there five\n",
      "some e is mirrored exclusively are at i e is initial\n",
      "all consonantal letter is are a t at or repeated\n",
      "every even consonantal capital letter is unique\n",
      "no letter is consonantal and follows a k\n",
      "a penultimate even unique three to there the precedes at no initial consonant\n",
      "only even consonants immediately follow more than one t\n",
      "every four that is is initial and penultimate that exclusively or letter three is repeated to and unvoiced\n",
      "every four capital even letter at that precedes some vowel is that the i e and immediately follows a glide\n",
      "some at mirrored vowels are adjacent two letter or four and precede at least one consonant that is a glide to or voiced the\n",
      "at least a one the the vocalized at letter the that is not a the capital vowel is initial\n",
      "the some odd no letter or follows not every vowel and not the every vowel follows some letter\n",
      "a only consonantal initial three that is are unique exclusively or every u is initial and not repeated\n",
      "all three the there is that are i unvoiced are not mirrored and precede no k\n",
      "some centered vowel that letter four is adjacent to follows a letter that follows the capital vowel\n",
      "some four d there is precede letter to or follow letter four and i are adjacent to letters are e\n",
      "every p is a consonant exclusively or there are some glides that are odd and not voiced\n",
      "all consonant that letter four is adjacent t no follow at least one e e\n",
      "no i at glides the a letter five precedes and voiced and follow or u\n",
      "only even vowels that are adjacent odd consonants follow letter three\n",
      "some glide that letter four follows is unvoiced and capitalized or is final\n",
      "all four to there is to are penultimate or a follow some a unvoiced vocalized mirrored i a\n",
      "only mirrored letters are not unique and there is no unvoiced i\n",
      "all glides are unique and all consonants are capitalized\n",
      "that repeated that letter to precedes is penultimate and is consonants all or repeated\n",
      "every u that letter three is adjacent to is capitalized and final\n",
      "all even letters at are more are all and the is e a at least one i a and more than one a\n",
      "not letters are final exclusively or no letters are a initial or a all are unique letters are not there\n",
      "only mirrored vowels and consonants all exclusively or there is a centered even final i\n",
      "only consonantal three is i unique and there is no t there all is at least one u e\n",
      "that are four and equals letter four and there is a capitalized final four and a or the or no consonantal four to that\n",
      "letter four is equals letter three at and all consonants are or p u or voiced\n",
      "a consonantal four than are the is final and the initial letter is not penultimate\n",
      "every e and no p are voiced and there is a t that immediately follows every consonant\n",
      "all vowels are adjacent to capital glides and letter four equals letter two\n",
      "some e e the four every t u or i u is all the and is not capitalized\n",
      "only penultimate follows are are unvoiced or repeated a or follow some that that is a and are unvoiced\n",
      "some follows precede a a unique consonant or more that one the a capital the letter and are capitalized\n",
      "only unique follows that are not mirrored are capital and are adjacent to letter or five\n",
      "at least one t that letter two is adjacent to follows some voiced glides\n",
      "only letter to or is final and some vowel that letter four precedes is at k and to centered\n",
      "all consonants that follow a capital consonant are unique and letter four equals letter one\n",
      "only capital vowels are repeated or are mirrored exclusively or there is more than one i or at least one k\n",
      "every even consonant is adjacent a letter four exclusively or is there is a p e\n",
      "the letter no five e a p all i and i to i that letter at the t i e u\n",
      "and to follow than that the i all i no u four no and at least one glide\n",
      "and are t d at no that is not unique and at d to and that no five all odd is odd\n",
      "one the u p d to a all the repeated odd t are to one even that no a to are vocalized that and unique\n",
      "every t a i and one and that letter at two or three d e the a to glide all i to and more a the and no or k one and than to the and capital\n",
      "five all letters at that are vocalized or centered and are repeated are unique exclusively or there is no mirrored vocalized voiced three to five\n",
      "every vocalized letter that repeated vowels precede at follows at no i a and no k\n",
      "a final letter is a glide and odd or follows more than one unvoiced repeated consonant\n",
      "a letter five is not adjacent to letter three or follows more than one to five\n",
      "every vowel that letter one precedes precedes the unvoiced centered even glide\n",
      "all three p d is or consonant all and unvoiced and there is no four to to is that is repeated\n",
      "only centered vowels follow even consonants and no that glide at immediately follows all a p e\n",
      "more than one at repeated that a letter to follows follows the a consonant all four to two\n",
      "there are some glides that immediately precede at least one t and more than one u\n",
      "every u follow the is not four k i a exclusively e all i d i centered p e follow no some even consonant and is not all i d\n",
      "no glides that i all i to follow no more than one e all i a capitalized voiced repeated\n",
      "letter i t equals letter or four to exclusively e all at the i k i t equals letter or two one and is letter to one equals letter or four\n",
      "all u glides i to all and and voiced and a odd no one letter or is that i i or t all is repeated\n",
      "some one to the is immediately precede at at least one glide all i immediately precede some e\n",
      "a centered consonant that is a glide follows no consonants and precedes letter five\n",
      "some u u e is final exclusively or there is a consonantal initial four k to that precedes i at least one i\n",
      "some are i and that letter one precedes follows a capital vowels\n",
      "at least one the u at is initial or a final and to no four k to is are penultimate or are repeated\n",
      "all consonants or final or initial and there is that no consonant all four to two that is not penultimate\n",
      "no letters or that are not final are e t or not consonant all and all four to is are adjacent to letter three\n",
      "and letter five equals at letter a four and a e u a that is a four to to and initial precedes a k\n",
      "every e k e that that letter to follows follows a capitalized i or and is capitalized\n",
      "no or t is mirrored and centered and there are no consonants that unique e precede a at t\n",
      "not glide that follows a at follows all are capitalized at there is letters the or p\n",
      "no that five is a consonant and follows more than one letter that is a e\n",
      "all i glides at that to exclusively are is some unique at there is precede a at e at is all are to and capitalized\n",
      "all the i to two and the i letter i t immediately follows a centered even p e\n",
      "a letter that is penultimate is unique exclusively or there are no letters that are unique\n",
      "there is no even glide at that is capital or precedes more than one t a or any e e\n",
      "all letters that follow more than one e that are capitalized are odd\n",
      "every k is centered and immediately precedes and vowel that is no capital and even\n",
      "every i that is adjacent to letter four is vocalized and unique or follows at p\n",
      "\n",
      "1515 out of 2614\n",
      "Truth value error rate: 0.42042846212700846\n",
      "849\n",
      "666\n",
      "2614\n"
     ]
    }
   ],
   "source": [
    "check_truth(truth_path,result_path,g1_path)"
   ]
  }
 ],
 "metadata": {
  "kernelspec": {
   "display_name": "Python 3 (ipykernel)",
   "language": "python",
   "name": "python3"
  },
  "orig_nbformat": 4
 },
 "nbformat": 4,
 "nbformat_minor": 2
}
