{
 "cells": [
  {
   "cell_type": "code",
   "execution_count": 1,
   "metadata": {
    "vscode": {
     "languageId": "shellscript"
    }
   },
   "outputs": [
    {
     "name": "stdout",
     "output_type": "stream",
     "text": [
      "/projects/speech/ASR/kaldi/egs/librispeech/s5-mats\n"
     ]
    }
   ],
   "source": [
    "cd $LIBRISPEECH\n",
    "pwd"
   ]
  },
  {
   "cell_type": "code",
   "execution_count": 2,
   "metadata": {
    "vscode": {
     "languageId": "shellscript"
    }
   },
   "outputs": [
    {
     "name": "stdout",
     "output_type": "stream",
     "text": [
      "mkdir -p data/train21/build\n",
      "ls /projects/speech/cl21/data/*/*_a/wav/*.wav > data/train21/build/wavname_a.txt\n",
      "ls /projects/speech/cl21/data/*/*_b/wav/*.wav > data/train21/build/wavname_b.txt\n",
      "ls /projects/speech/cl21/data/*/*_c/wav/*.wav > data/train21/build/wavname_c.txt\n",
      "# All files pass this.\n",
      "# for f in `cat data/train21/build/wavname_a.txt`; do file $f; done | egrep -v 'mono 16000'\n",
      "cat data/train21/build/wavname_?.txt | cut -f 6,7 -d'/' | sort -u | tr '/' ' ' > data/train21/build/wavpart1.txt\n",
      "# Find items where text, truth, and wav exist\n",
      "cat data/train21/build/wavpart1.txt  | awk -f script/exists.awk > data/train21/build/wavpart2.sh\n",
      "source data/train21/build/wavpart2.sh > data/train21/build/wavpart2.txt\n",
      "# Remove known bad pairs\n",
      "# Concatenate the text files\n",
      "cat data/train21/build/wavpart2.txt | awk 'BEGIN {FS=\" \"}NF==2{printf(\"cat /projects/speech/cl21/data/%s/%s/text\\n\",$1,$2)}' > data/train21/build/text.sh\n",
      "source data/train21/build/text.sh | sort -u | egrep '[A-Z]' > data/train21/build/text\n",
      "\n",
      "\n"
     ]
    }
   ],
   "source": [
    "cat script/wav.sh"
   ]
  },
  {
   "cell_type": "code",
   "execution_count": 3,
   "metadata": {
    "vscode": {
     "languageId": "shellscript"
    }
   },
   "outputs": [
    {
     "name": "stdout",
     "output_type": "stream",
     "text": [
      "aiden-a-1 AT LEAST ONE VOWEL IS CAPITALIZED\n",
      "aiden-a-10 THERE IS ONLY ONE T\n",
      "aiden-a-2 SOME VOWEL IS NOT CAPITALIZED\n",
      "aiden-a-3 EVERY GLIDE PRECEDES A VOWEL\n"
     ]
    }
   ],
   "source": [
    "mkdir -p data/train21b \n",
    "cp data/train21/build/text data/train21b \n",
    "head -4 data/train21b/text"
   ]
  },
  {
   "cell_type": "code",
   "execution_count": 4,
   "metadata": {
    "vscode": {
     "languageId": "shellscript"
    }
   },
   "outputs": [
    {
     "name": "stdout",
     "output_type": "stream",
     "text": [
      "aiden-a-1 aiden\n",
      "aiden-a-10 aiden\n",
      "aiden-a-2 aiden\n",
      "aiden-a-3 aiden\n"
     ]
    }
   ],
   "source": [
    "cat data/train21b/text | cut -f1 -d' ' | awk 'BEGIN {FS=\"-\"}{printf(\"%s %s\\n\",$0,$1)}' > data/train21b/utt2spk\n",
    "head -4 data/train21b/utt2spk"
   ]
  },
  {
   "cell_type": "code",
   "execution_count": 16,
   "metadata": {
    "vscode": {
     "languageId": "shellscript"
    }
   },
   "outputs": [
    {
     "name": "stdout",
     "output_type": "stream",
     "text": [
      "aiden-a-1 aTqF f Attq t Atta t AAAA t tstt u ieou f euEu t THHH u\n",
      "aiden-a-2 aTqF t Attq f Atta t AAAA f tstt u ieou t euEu t THHH u\n",
      "aiden-a-3 agqF u Atya t yayt f AAAA u yaYi t yyyy f euEy f aYaa t\n",
      "aiden-a-4 aT u Attqa f AttaT t AAAAt t tstta f ieOuli t edhGHth f THHHa f\n"
     ]
    }
   ],
   "source": [
    "cp data/train21/build/truth data/train21b \n",
    "head -4 data/train21b/truth"
   ]
  },
  {
   "cell_type": "code",
   "execution_count": 8,
   "metadata": {
    "vscode": {
     "languageId": "shellscript"
    }
   },
   "outputs": [
    {
     "name": "stdout",
     "output_type": "stream",
     "text": [
      "olivia olivia-a-1 olivia-a-10 olivia-a-2 olivia-a-3 olivia-a-4 olivia-a-5 olivia-a-6 olivia-a-7 olivia-a-8 olivia-a-9 olivia-b-1 olivia-b-2 olivia-b-3 olivia-b-4 olivia-b-5 olivia-c-1 olivia-c-2 olivia-c-3 olivia-c-4 olivia-c-5\n",
      "zoe zoe-a-1 zoe-a-10 zoe-a-2 zoe-a-3 zoe-a-4 zoe-a-5 zoe-a-6 zoe-a-7 zoe-a-8 zoe-a-9 zoe-b-1 zoe-b-2 zoe-b-3 zoe-b-4 zoe-b-5 zoe-c-1 zoe-c-2 zoe-c-3 zoe-c-4 zoe-c-5\n",
      "spk2utt  text  utt2spk\n"
     ]
    }
   ],
   "source": [
    "utils/utt2spk_to_spk2utt.pl data/train21b/utt2spk > data/train21b/spk2utt\n",
    "tail -2 data/train21b/spk2utt\n",
    "ls data/train21b"
   ]
  },
  {
   "cell_type": "code",
   "execution_count": 10,
   "metadata": {
    "vscode": {
     "languageId": "shellscript"
    }
   },
   "outputs": [
    {
     "name": "stdout",
     "output_type": "stream",
     "text": [
      "aiden-a-1 /projects/speech/cl21/data/aiden/aiden_a/wav/aiden-a-1.wav\n",
      "aiden-a-10 /projects/speech/cl21/data/aiden/aiden_a/wav/aiden-a-10.wav\n"
     ]
    }
   ],
   "source": [
    "cat data/train21b/text | awk 'BEGIN {FS=\" \"}{split($1,p,\"-\"); printf(\"%s /projects/speech/cl21/data/%s/%s_%s/wav/%s.wav\\n\",$1,p[1],p[1],p[2],$1)}' > data/train21b/wav.scp\n",
    "head -2 data/train21b/wav.scp"
   ]
  },
  {
   "cell_type": "code",
   "execution_count": 12,
   "metadata": {
    "vscode": {
     "languageId": "shellscript"
    }
   },
   "outputs": [
    {
     "name": "stdout",
     "output_type": "stream",
     "text": [
      "steps/make_mfcc.sh --cmd run.pl --nj 1 data/train21b mfcc\n",
      "steps/make_mfcc.sh: moving data/train21b/feats.scp to data/train21b/.backup\n",
      "utils/validate_data_dir.sh: Successfully validated data-directory data/train21b\n",
      "steps/make_mfcc.sh: [info]: no segments file exists: assuming wav.scp indexed by utterance.\n",
      "steps/make_mfcc.sh: Succeeded creating MFCC features for train21b\n"
     ]
    }
   ],
   "source": [
    "# rm data/train21b/conf/mfcc.conf\n",
    "steps/make_mfcc.sh --cmd run.pl --nj 1 data/train21b mfcc"
   ]
  },
  {
   "cell_type": "code",
   "execution_count": 14,
   "metadata": {
    "vscode": {
     "languageId": "shellscript"
    }
   },
   "outputs": [
    {
     "name": "stdout",
     "output_type": "stream",
     "text": [
      "steps/compute_cmvn_stats.sh data/train21b mfcc\n",
      "Succeeded creating CMVN stats for train21b\n",
      "utils/validate_data_dir.sh: Successfully validated data-directory data/train21b\n"
     ]
    }
   ],
   "source": [
    "steps/compute_cmvn_stats.sh data/train21b mfcc\n",
    "utils/validate_data_dir.sh data/train21b"
   ]
  },
  {
   "cell_type": "code",
   "execution_count": 9,
   "metadata": {
    "vscode": {
     "languageId": "shellscript"
    }
   },
   "outputs": [
    {
     "data": {
      "text/plain": [
       "<nltk.parse.featurechart.FeatureChartParser at 0x7fb4addfa8b0>"
      ]
     },
     "execution_count": 9,
     "metadata": {},
     "output_type": "execute_result"
    }
   ],
   "source": [
    "# Decode as a check on train21b\n",
    "steps/decode_fmllr.sh --nj 1 --cmd run.pl exp/tri6b/graph_tgsmall data/train21b exp/tri6b/decode_tgsmall_train21B"
   ]
  },
  {
   "cell_type": "code",
   "execution_count": 17,
   "metadata": {
    "vscode": {
     "languageId": "shellscript"
    }
   },
   "outputs": [
    {
     "name": "stdout",
     "output_type": "stream",
     "text": [
      "zoe-a-1 THERE IS MORE THAN ONE CAPITALIZED VOWEL \n",
      "zoe-a-10 THERE ARE NO CAPITALIZED LETTERS \n",
      "zoe-a-2 A CONSONANT IMMEDIATELY PRECEDES EVERY VOWEL \n",
      "zoe-a-3 LETTER TO IS AT THE CAPITAL OR LETTER THREE IS UNIQUE \n",
      "zoe-a-4 ALL CAPITALIZED VOWELS ARE FINAL \n",
      "zoe-a-5 AT LEAST ONE GLIDE IS REPEATED \n",
      "zoe-a-6 THERE ARE VOICED CONSONANTS \n",
      "zoe-a-7 ALL VOWELS ARE CAPITALIZED AND ALL CONSONANTS ARE NOT CAPITALIZED \n",
      "zoe-a-8 ONLY GLIDES ARE REPEATED \n",
      "zoe-a-9 A VOWEL IS ADJACENT TO EVERY CONSONANT \n"
     ]
    }
   ],
   "source": [
    "egrep '^zoe-a' exp/tri6b/decode_tgsmall_train21B.si/log/decode.1.log | head "
   ]
  },
  {
   "attachments": {},
   "cell_type": "markdown",
   "metadata": {},
   "source": [
    "#### Best sentences\n",
    "Some of this modified from Elise Kronblicher's 2021 project report.\n",
    "\n",
    "Read into a list the results of `lattice-to-nbest` and `nbest-to-linear`, with an $n$ of 100. See the earlier notebook."
   ]
  },
  {
   "cell_type": "code",
   "execution_count": null,
   "metadata": {
    "vscode": {
     "languageId": "shellscript"
    }
   },
   "outputs": [],
   "source": []
  },
  {
   "cell_type": "code",
   "execution_count": 11,
   "metadata": {
    "vscode": {
     "languageId": "shellscript"
    }
   },
   "outputs": [],
   "source": [
    "best_100_path = exp + 'exp/tri6b/decode_tgsmall_train21d.si/100.text'\n",
    "with open(best_100_path) as f:\n",
    "    best_100_lines=f.readlines()\n",
    "f.close()"
   ]
  },
  {
   "attachments": {},
   "cell_type": "markdown",
   "metadata": {},
   "source": [
    "There are a lot, because there are up to 100 readings for each audio."
   ]
  },
  {
   "cell_type": "code",
   "execution_count": 14,
   "metadata": {
    "vscode": {
     "languageId": "shellscript"
    }
   },
   "outputs": [
    {
     "data": {
      "text/plain": [
       "19903"
      ]
     },
     "execution_count": 14,
     "metadata": {},
     "output_type": "execute_result"
    }
   ],
   "source": [
    "len(best_100_lines)"
   ]
  },
  {
   "attachments": {},
   "cell_type": "markdown",
   "metadata": {},
   "source": [
    "The following is slow, it took 9m 30.6s."
   ]
  },
  {
   "cell_type": "code",
   "execution_count": 13,
   "metadata": {
    "vscode": {
     "languageId": "shellscript"
    }
   },
   "outputs": [
    {
     "name": "stdout",
     "output_type": "stream",
     "text": [
      "['aiden-a-1', 'aiden-a-2', 'aiden-a-3'] ['AT LEAST ONE VOWEL IS CAPITALIZED', 'SOME VOWEL IS NOT CAPITALIZED', 'EVERY GLIDE PRECEDES THE VOWEL']\n"
     ]
    }
   ],
   "source": [
    "idx=[]\n",
    "for s in best_100_lines:\n",
    "    id='-'.join(s.split('-')[0:3])\n",
    "    split=s.split()\n",
    "    idx+=[[id,split[0],[s.lower() for s in split[1:]]]]\n",
    "\n",
    "files=[]\n",
    "sents=[]\n",
    "for i in idx:\n",
    "    if i[0] not in files:\n",
    "        if sentence_parses(i[2],p1):\n",
    "            files+=[i[0]]\n",
    "            sents+=[' '.join(w.upper() for w in i[2])]\n",
    "for i in idx:\n",
    "    if i[0] not in files:\n",
    "        files+=[i[0]]\n",
    "        sents+=[' '.join(w.upper() for w in i[2])]\n",
    "print(files[0:3],sents[0:3])\n"
   ]
  },
  {
   "cell_type": "code",
   "execution_count": 15,
   "metadata": {
    "vscode": {
     "languageId": "shellscript"
    }
   },
   "outputs": [],
   "source": [
    "\n",
    "# This saves the results of the slow code above.  It has the best reading for each uid.\n",
    "# It's suboptimal, it mixes in sentences that did not parse.\n",
    "f = open(s5 + '/result/result1', \"w\")\n",
    "for i in range(len(files)):\n",
    "    f.write(files[i]+\" \"+sents[i]+\"\\n\")\n",
    "f.close()\n",
    "\n"
   ]
  },
  {
   "attachments": {},
   "cell_type": "markdown",
   "metadata": {},
   "source": [
    "## Code for models"
   ]
  },
  {
   "cell_type": "code",
   "execution_count": 27,
   "metadata": {
    "vscode": {
     "languageId": "shellscript"
    }
   },
   "outputs": [],
   "source": [
    "import nltk\n",
    "from nltk import grammar, parse, load_parser\n",
    "from typing import Callable, List, Set\n",
    "import re\n",
    "\n",
    "###This code from Akash Aryal's model generator \n",
    "\n",
    "vowels = ['a', 'e', 'i', 'o', 'u']\n",
    "fricatives = ['v', 'f', 's', 'z', 'h', 'th', 'sh', 'zh']\n",
    "              \n",
    "#def vowel(word,i):\n",
    "#    return word[i].lower() in vowels\n",
    "#get_vowel = lambda word: f'vowel => {set([i+1 for i in range(len(word)) if vowel(word,i)])}'\n",
    "\n",
    "def capital(word, i):\n",
    "    return word[i].isupper()\n",
    "get_capital = lambda word: f'capital => {set([i+1 for i in range(len(word)) if capital(word,i)])}'\n",
    "\n",
    "def less_than(i, j):\n",
    "    return i<j\n",
    "get_less_than = lambda word: f'le => {set([(i+1,j+1) for i in range(len(word)) for j in range(len(word)) if i!=j and less_than(i+1,j+1)])}'\n",
    "\n",
    "def adjacent(i,j):\n",
    "    return abs(i-j) == 1\n",
    "get_adjacent = lambda word: f'ad => {set([(i+1,j+1) for i in range(len(word)) for j in range(len(word)) if adjacent(i+1,j+1)])}'\n",
    "\n",
    "get_even =  lambda word: f'even => {set([i+1 for i in range(len(word)) if (i+1)%2==0])}'\n",
    "\n",
    "get_odd = lambda word: f'odd => {set([i+1 for i in range(len(word)) if (i+1)%2!=0])}'\n",
    "\n",
    "# @323\n",
    "def voiced(word):\n",
    "    word=word.lower()\n",
    "    v=[]\n",
    "    for i in range(len(word)):\n",
    "        if i != len(word)-1:\n",
    "            if (word[i] == 'n' and word[i+1]=='g') or (word[i] == 's' and word[i+1] == 'z'):\n",
    "                v.append((i+1, word[i]))\n",
    "                v.append((i+2, word[i+1]))\n",
    "        if word[i] == 'z':\n",
    "            if ((i,'s') not in v):\n",
    "                v.append((i+1, 'z'))\n",
    "        if word[i] == 'g':\n",
    "            if ((i,'n') not in v):\n",
    "                v.append((i+1, 'g'))\n",
    "        if word[i] == 'n':\n",
    "            if ((i+2,'g') not in v):\n",
    "                v.append((i+1,'n'))\n",
    "        if word[i] in ['a', 'e', 'i', 'o', 'u', 'b', 'd', 'j', 'l', 'm', 'r', 'v', 'w', 'y']:\n",
    "            v.append((i+1, word[i]))\n",
    "    return v\n",
    "            \n",
    "get_voiced= lambda w: f'voiced => {set([(i+1,w[i].lower()) for i in range(len(w)) if (i+1, w[i].lower()) in voiced(w)])}'\n",
    "\n",
    "def centered(word,i):\n",
    "    if (len(word)%2==0):\n",
    "        return len(word)//2 == i or i == len(word)//2 + 1\n",
    "    else:\n",
    "        return len(word)//2 + 1 == i\n",
    "\n",
    "get_centered = lambda word: f'cent => {set([i+1 for i in range(len(word)) if centered(word,i+1)])}'\n",
    "\n",
    "get_mirrored = lambda w: f'mirrored => {set(i+1 for i in range(len(w)) if w[i].lower() == w[len(w)-1-i].lower())}'\n",
    "\n",
    "get_glide =  lambda w: f'glide => {set(i+1 for i in range(len(w)) if w[i].lower() == \"w\" or w[i].lower() == \"y\")}'\n",
    "\n",
    "# from @325\n",
    "def fricatives(word):\n",
    "    word.lower()\n",
    "    frics = []\n",
    "    for i in range(len(word)):\n",
    "        if i != len(word)-1:\n",
    "            if word[i] in ['t', 's', 'z'] and word[i+1] == 'h':\n",
    "                frics.append((i+1, word[i]))\n",
    "                frics.append((i+2, 'h'))\n",
    "        if word[i] == 'h':\n",
    "            if ((i, 't') not in frics) and ((i, 's') not in frics) and ((i, 'z') not in frics):\n",
    "                frics.append((i+1, 'h'))\n",
    "        if word[i] in ['s', 'z']:\n",
    "            if ((i+2, 'h') not in frics):\n",
    "                frics.append((i+1, word[i]))\n",
    "        if word[i] in ['v', 'f']:\n",
    "            frics.append((i+1, word[i]))\n",
    "        return frics\n",
    "get_fricative = lambda w: f'fricative => {set([(i+1,w[i].lower()) for i in range(len(w)) if (i+1, w[i].lower()) in fricatives(w)])}'\n",
    "\n",
    "##Code by Angela Liu from HW3\n",
    "def to_model_str(word: str, special_rels: List[Callable[[str], str]]=[]) -> str:\n",
    "    \"\"\"\n",
    "    Creates the string form of the model for the input word. This string is meant to be passed to `nltk.Valuation.fromstring`.\n",
    "    By default, the function will only add the relations mapping i => i for i from 1 to the length of `word` and a relation \n",
    "    mapping char => the set of tuples (i, word[i]). The `special_rels` function allows you to specify additional relations to \n",
    "    be added to the valuation string.\n",
    "    \n",
    "    :param word: The word to create a model string for.\n",
    "    :param special_rels: A list of functions that when called return a string of the form {relation_name} => {relation_contents}. Defaults to the empty list.\n",
    "    :returns: a string representing the model for word\n",
    "    \"\"\"\n",
    "    n = len(word)\n",
    "    model_str = []\n",
    "    char = []\n",
    "    for i in range(1, n+1):\n",
    "        model_str.append(f'{i} => {i}')\n",
    "        char.append((i, word[i-1]))\n",
    "    model_str.append(f'char => {set(char)}'.lower())\n",
    "    return '\\n'.join(model_str + [rel(word) for rel in special_rels]).replace(\"'\", \"\")\n",
    "    # Angela Liu\n",
    "\n",
    "def emptysets(val:nltk.sem.evaluate.Valuation):\n",
    "    val.update([(k,set()) for (k,v) in val.items() if v == 'set()'])\n",
    "    \n",
    "\n"
   ]
  },
  {
   "cell_type": "code",
   "execution_count": 30,
   "metadata": {
    "vscode": {
     "languageId": "shellscript"
    }
   },
   "outputs": [
    {
     "data": {
      "text/plain": [
       "'capital => {8, 2, 4, 6}'"
      ]
     },
     "execution_count": 30,
     "metadata": {},
     "output_type": "execute_result"
    }
   ],
   "source": [
    "get_capital('aDvOcAtEf')"
   ]
  },
  {
   "attachments": {},
   "cell_type": "markdown",
   "metadata": {},
   "source": [
    "### Truth checking\n",
    "From E.K."
   ]
  },
  {
   "cell_type": "code",
   "execution_count": 27,
   "metadata": {
    "vscode": {
     "languageId": "shellscript"
    }
   },
   "outputs": [
    {
     "name": "stdout",
     "output_type": "stream",
     "text": [
      "/projects/speech/ASR/kaldi/egs/librispeech/s5-mats/data/train21/truth\n",
      "/projects/speech/ASR/kaldi/egs/librispeech/s5-mats/result/result1\n"
     ]
    }
   ],
   "source": [
    "truth_path = train21 + '/truth'\n",
    "result_path = s5 + '/result/result1'\n",
    "print(truth_path)\n",
    "print(result_path)"
   ]
  },
  {
   "cell_type": "code",
   "execution_count": 38,
   "metadata": {
    "vscode": {
     "languageId": "shellscript"
    }
   },
   "outputs": [],
   "source": [
    "def check_truth(truthpath,resultpath,grammarpath):\n",
    "    \"\"\"\n",
    "    Compares the truth values from user's generated tests to those produced from from the truth page. Iterates through the truth file\n",
    "    one sentence at a time\n",
    "     \n",
    "    \n",
    "    :param: Results are in the same format as a text file\"\n",
    "    \"\"\"\n",
    "    \n",
    "    ##User needs to provide their own truth and text paths\n",
    "    \n",
    "    gram_lst=[]\n",
    "    after_assign=[]\n",
    "    after_calc=[]\n",
    "    before_calc=[]\n",
    "    text = open(resultpath)\n",
    "    truth = open(truthpath)\n",
    "    sentences = []\n",
    "    truthTests = []\n",
    "    for l, t in zip(text, truth):\n",
    "        truthTests.append(t.strip('\\n').split(\" \"))\n",
    "        sentences.append(l.split(\" \", 1)[0])\n",
    "        sentences.append(l.split(\" \", 1)[1].strip('\\n').strip())\n",
    "    \n",
    "    pr = nltk.load_parser(grammarpath, trace=0,cache=False)\n",
    "    #Magic, do not touch! Cannot parse sentences without this line!\n",
    "    get_vowel = lambda w: f'vowel => {set(re.findall(r\"[AEIOUaeiou]\", w))}'.lower()\n",
    "    \n",
    "    numCorrect = 0 \n",
    "    numGuessedCorrect=0\n",
    "    numTests = 0\n",
    "    for t in truthTests:\n",
    "        words = []\n",
    "        truths = []\n",
    "        sentence = sentences[sentences.index(t[0])+1].lower()\n",
    "        print(sentence)\n",
    "        \n",
    "        for i in range(1, len(t)):\n",
    "                if (i % 2 == 1):\n",
    "                    words.append(t[i])\n",
    "                    \n",
    "                else :\n",
    "                    if(t[i] == 't'): \n",
    "                        truths.append('True')\n",
    "                        numTests+=1\n",
    "                    elif(t[i] == 'f'): \n",
    "                        truths.append('False')\n",
    "                        numTests+=1\n",
    "                    elif(t[i] == 'u'): truths.append('Undefined')\n",
    "                    else: print(\"Check the format of your truth file, \"+t[i])\n",
    "        try:\n",
    "            formula = next(pr.parse(sentence.split())).label()['SEM']\n",
    "            print(formula)\n",
    "            gram_lst+=[sentence]\n",
    "               \n",
    "            equals = lambda w: f'eq => {set([(i+1,i+1) for i in range(len(w))])}'\n",
    "            vals = [nltk.Valuation.fromstring(to_model_str(w, [get_vowel, get_capital, get_less_than, get_adjacent, get_even, get_odd, \n",
    "                                                   get_voiced, get_centered, get_mirrored, get_glide, get_fricative])) for w in words]\n",
    "            assignments = [nltk.Assignment(val.domain) for val in vals]\n",
    "            for val in vals: emptysets(val)\n",
    "            models = [nltk.Model(val.domain, val) for val in vals]\n",
    "            after_assign+=[sentence]\n",
    "            for w, a, m, t in zip(words, assignments, models, truths):\n",
    "                calculated = m.evaluate(str(formula),a)\n",
    "                \n",
    "                #I left in some useful print statements if you want to see a breakdown of the results\n",
    "                print(f'{w}\\nexpected: {t} calculated: {calculated}\\n----------------\\n')\n",
    "                if(t != \"Undefined\"):\n",
    "                    print(f\"truth file: {t} calculated: {calculated}\")\n",
    "                    if(t == str(calculated)): numCorrect+=1\n",
    "                \n",
    "            \n",
    "        except:\n",
    "            for t in truths:\n",
    "                if t=='False': numGuessedCorrect+=1\n",
    "#             print(\"\\nYour sentence '\" + sentence + \"' is ungrammatical\")\n",
    "            \n",
    "        \n",
    "    print(f\"\\n{numCorrect+numGuessedCorrect} out of {numTests}\\nTruth value error rate: {1-(numCorrect+numGuessedCorrect)/numTests}\")\n",
    "    print(numCorrect)\n",
    "    print(numGuessedCorrect)\n",
    "    print(numTests)\n",
    "    "
   ]
  },
  {
   "cell_type": "code",
   "execution_count": null,
   "metadata": {
    "vscode": {
     "languageId": "shellscript"
    }
   },
   "outputs": [],
   "source": []
  },
  {
   "cell_type": "code",
   "execution_count": 39,
   "metadata": {
    "vscode": {
     "languageId": "shellscript"
    }
   },
   "outputs": [
    {
     "name": "stdout",
     "output_type": "stream",
     "text": [
      "there is exactly one the t\n",
      "at least one vowel is capitalized\n",
      "exists n.(exists c.(vowel(c) & char(n,c)) & exists c.(capital(n) & char(n,c)))\n",
      "some vowel is not capitalized\n",
      "exists n.(exists c.(vowel(c) & char(n,c)) & -exists c.(capital(n) & char(n,c)))\n",
      "every glide precedes the vowel\n",
      "all n.(exists c.(glide(c) & char(n,c)) -> exists z7383.(exists c.(vowel(c) & char(z7383,c)) & le(n,z7383)))\n",
      "the letter or that precedes that letter five is a vowel\n",
      "letter three is unique\n",
      "all c m.((char(m,c) & char(3,c)) -> (m = 3))\n",
      "the penultimate letter is not a vowel\n",
      "exists n.(exists c.char(n,c) & exists d.(ad(n,d) & le(n,d) & -exists m.le(d,m)) & exists c.char(n,c) & exists c.(vowel(c) & char(n,c)))\n",
      "no consonant is unique\n",
      "all n.(exists c.(-vowel(c) & char(n,c)) -> -all c m.((char(m,c) & char(n,c)) -> (m = n)))\n",
      "there is at least one glide\n",
      "exists n.(exists c.(glide(c) & char(n,c)) & exists c.char(n,c))\n",
      "only letter two is unique\n",
      "exists h.all m.(char(2,h) & (-(m = 2) -> (all c m.((char(m,c) & char(2,c)) -> (m = 2)) & -all c z7384.((char(z7384,c) & char(m,c)) -> (z7384 = m)))))\n",
      "all mirrored letters are not capitalized\n",
      "all n.((mirrored(n) & exists c.char(n,c)) -> -exists c.(capital(n) & char(n,c)))\n",
      "some unique letter is capitalized\n",
      "exists n.(all c m.((char(m,c) & char(n,c)) -> (m = n)) & exists c.char(n,c) & exists c.(capital(n) & char(n,c)))\n",
      "there is at least one vowel\n",
      "exists n.(exists c.(vowel(c) & char(n,c)) & exists c.char(n,c))\n",
      "more than one p is mirrored\n",
      "exists m n.(char(n,letp) & mirrored(n) & char(m,letp) & mirrored(m) & -(m = n))\n",
      "every even letter is a vowel\n",
      "all n.((even(n) & exists c.char(n,c)) -> exists c.(vowel(c) & char(n,c)))\n",
      "a letter three follows some the unique consonant\n",
      "only letter two immediately precedes a vowel\n",
      "exists h.all m.(char(2,h) & (-(m = 2) -> (exists n.(exists c.(vowel(c) & char(n,c)) & le(2,n)) & -exists n.(exists c.(vowel(c) & char(n,c)) & le(m,n)))))\n",
      "every penultimate letter is a vowel\n",
      "all n.((exists c.char(n,c) & exists d.(ad(n,d) & le(n,d) & -exists m.le(d,m)) & exists c.char(n,c)) -> exists c.(vowel(c) & char(n,c)))\n",
      "there is some glide that follows letter two\n",
      "exists n.(exists c.(glide(c) & char(n,c)) & le(2,n) & exists c.char(n,c))\n",
      "no unique vowel is centered\n",
      "all n.((all c m.((char(m,c) & char(n,c)) -> (m = n)) & exists c.(vowel(c) & char(n,c))) -> -exists c.(cent(n) & char(n,c)))\n",
      "there is more than one vowel\n",
      "exists m n.(exists c.(vowel(c) & char(n,c)) & exists c.char(n,c) & exists c.(vowel(c) & char(m,c)) & exists c.char(m,c) & -(m = n))\n",
      "at least one letter all most glides\n",
      "every consonant is penultimate or consonantal\n",
      "all n.(exists c.(-vowel(c) & char(n,c)) -> ((exists c.char(n,c) & exists d.(ad(n,d) & le(n,d) & -exists m.le(d,m))) | exists c.(-vowel(c) & char(n,c))))\n",
      "every vowel is unique and final\n",
      "all n.(exists c.(vowel(c) & char(n,c)) -> (all c m.((char(m,c) & char(n,c)) -> (m = n)) & -exists c d.(le(n,d) & char(n,c))))\n",
      "letter one is unique\n",
      "all c m.((char(m,c) & char(1,c)) -> (m = 1))\n",
      "the letter one is all voiced four more k i only\n",
      "letter or two centered or repeated\n",
      "more than one vowel is capital\n",
      "exists m n.(exists c.(vowel(c) & char(n,c)) & capital(n) & exists c.(vowel(c) & char(m,c)) & capital(m) & -(m = n))\n",
      "no consonant immediately follows vowels\n",
      "some vowel equals than than one\n",
      "there is a vowel that is a u or final\n",
      "exists n.(exists c.(vowel(c) & char(n,c)) & (char(n,letu) | -exists c d.(le(n,d) & char(n,c))) & exists c.char(n,c))\n",
      "a u is a vowel\n",
      "exists n.(char(n,letu) & exists c.(vowel(c) & char(n,c)))\n",
      "every letter adjacent u u is not unique\n",
      "every letter is a vowel or unique\n",
      "all n.(exists c.char(n,c) -> (exists c.(vowel(c) & char(n,c)) | all c m.((char(m,c) & char(n,c)) -> (m = n))))\n",
      "every u is a vowel\n",
      "all n.(char(n,letu) -> exists c.(vowel(c) & char(n,c)))\n",
      "every vowel is a that capital letter\n",
      "more than one letter precedes the p\n",
      "exists m n.(exists c.char(n,c) & exists z7394.(char(z7394,letp) & le(n,z7394)) & exists c.char(m,c) & exists n.(char(n,letp) & le(m,n)) & -(m = n))\n",
      "more than one vowel follows a consonant\n",
      "exists m n.(exists c.(vowel(c) & char(n,c)) & exists z7396.(exists c.(-vowel(c) & char(z7396,c)) & le(z7396,n)) & exists c.(vowel(c) & char(m,c)) & exists n.(exists c.(-vowel(c) & char(n,c)) & le(n,m)) & -(m = n))\n",
      "some vowel is capitalized\n",
      "exists n.(exists c.(vowel(c) & char(n,c)) & exists c.(capital(n) & char(n,c)))\n",
      "some vowels are capitalized\n",
      "exists n.(exists c.(vowel(c) & char(n,c)) & exists c.(capital(n) & char(n,c)))\n",
      "all three to that is are voiced\n",
      "every glide precedes letter five\n",
      "all n.(exists c.(glide(c) & char(n,c)) -> le(n,5))\n",
      "at least to one most repeated that precedes letter to is capitalized\n",
      "a glide is unique\n",
      "exists n.(exists c.(glide(c) & char(n,c)) & all c m.((char(m,c) & char(n,c)) -> (m = n)))\n",
      "every vowel is repeated\n",
      "all n.(exists c.(vowel(c) & char(n,c)) -> exists m c.(char(n,c) & char(m,c) & (le(m,n) | le(n,m))))\n",
      "at least one consonant is not capitalized\n",
      "exists n.(exists c.(-vowel(c) & char(n,c)) & -exists c.(capital(n) & char(n,c)))\n",
      "all all three k that is precede letter three\n",
      "letter five follows letter four\n",
      "le(4,5)\n",
      "more than one the three to there the is voiced\n",
      "no vowel immediately follows the consonant\n",
      "all n.(exists c.(vowel(c) & char(n,c)) -> -exists z7400.(exists c.(-vowel(c) & char(z7400,c)) & le(z7400,n)))\n",
      "letter three is final and is initial\n",
      "(-exists c d.(le(3,d) & char(3,c)) & -exists c d.(le(d,3) & char(3,c)))\n",
      "at least one vowel immediately follows a consonant\n",
      "exists n.(exists c.(vowel(c) & char(n,c)) & exists z7408.(exists c.(-vowel(c) & char(z7408,c)) & le(z7408,n)))\n",
      "all consonants are glides\n",
      "all n.(exists c.(-vowel(c) & char(n,c)) -> exists c.(glide(c) & char(n,c)))\n",
      "only letter one is capitalized\n",
      "exists h.all m.(char(1,h) & (-(m = 1) -> (exists c.(capital(1) & char(1,c)) & -exists c.(capital(m) & char(m,c)))))\n",
      "some vowel is repeated\n",
      "exists n.(exists c.(vowel(c) & char(n,c)) & exists m c.(char(n,c) & char(m,c) & (le(m,n) | le(n,m))))\n",
      "every a letter that follows a consonants is not that\n",
      "no three that is precedes any vowels\n",
      "every vowel is adjacent to are vowel\n",
      "more than one letter is the vowel and is adjacent to letter three\n",
      "exists m n.(exists c.char(n,c) & exists c.(vowel(c) & char(n,c)) & exists c.(ad(3,n) & char(3,c)) & exists c.char(m,c) & exists c.(vowel(c) & char(m,c)) & exists c.(ad(3,m) & char(3,c)) & -(m = n))\n",
      "every capital letter is unique\n",
      "all n.((capital(n) & exists c.char(n,c)) -> all c m.((char(m,c) & char(n,c)) -> (m = n)))\n",
      "there are no consonants that directly follow all letter to or and are penultimate\n",
      "exactly two vowels are capitalized and follow a consonant\n",
      "no consonant is adjacent to glide\n",
      "the or exactly two vowels that precede four to five\n",
      "there are no vowels that are adjacent to letter three\n",
      "all n.((exists c.(vowel(c) & char(n,c)) & exists c.(ad(3,n) & char(3,c))) -> -exists c.char(n,c))\n",
      "letter one equals letter four\n",
      "exists c.(char(1,c) & char(4,c))\n",
      "some repeated vowel precedes letter three\n",
      "exists n.(exists m c.(char(n,c) & char(m,c) & (le(m,n) | le(n,m))) & exists c.(vowel(c) & char(n,c)) & le(n,3))\n",
      "there is a consonant that is penultimate and follows a vowel\n",
      "exists n.(exists c.(-vowel(c) & char(n,c)) & exists c.char(n,c) & exists d.(ad(n,d) & le(n,d) & -exists m.le(d,m)) & exists z7415.(exists c.(vowel(c) & char(z7415,c)) & le(z7415,n)) & exists c.char(n,c))\n",
      "i only letter to is a vowel and adjacent to a consonant\n",
      "no vowels follow a glide\n",
      "all n.(exists c.(vowel(c) & char(n,c)) -> -exists z7418.(exists c.(glide(c) & char(z7418,c)) & le(z7418,n)))\n",
      "all capital letters are consonantal\n",
      "all n.((capital(n) & exists c.char(n,c)) -> exists c.(-vowel(c) & char(n,c)))\n",
      "every vowel is mirrored\n",
      "all n.(exists c.(vowel(c) & char(n,c)) -> mirrored(n))\n",
      "letter three is a glide or capitalized\n",
      "(exists c.(glide(c) & char(3,c)) | exists c.(capital(3) & char(3,c)))\n",
      "letter two is repeated\n",
      "exists m c.(char(2,c) & char(m,c) & (le(m,2) | le(2,m)))\n",
      "every glide is final\n",
      "all n.(exists c.(glide(c) & char(n,c)) -> -exists c d.(le(n,d) & char(n,c)))\n",
      "some capital letter is centered\n",
      "exists n.(capital(n) & exists c.char(n,c) & exists c.(cent(n) & char(n,c)))\n",
      "more than one vowel follows a consonant\n",
      "exists m n.(exists c.(vowel(c) & char(n,c)) & exists z7420.(exists c.(-vowel(c) & char(z7420,c)) & le(z7420,n)) & exists c.(vowel(c) & char(m,c)) & exists n.(exists c.(-vowel(c) & char(n,c)) & le(n,m)) & -(m = n))\n",
      "at least one consonant is unique\n",
      "exists n.(exists c.(-vowel(c) & char(n,c)) & all c m.((char(m,c) & char(n,c)) -> (m = n)))\n",
      "every letter is capitalized\n",
      "all n.(exists c.char(n,c) -> exists c.(capital(n) & char(n,c)))\n",
      "a capital letter immediately precedes every vowel\n",
      "exists n.(capital(n) & exists c.char(n,c) & all z7424.(exists c.(vowel(c) & char(z7424,c)) -> le(n,z7424)))\n",
      "there is some vowel that follows a glide\n",
      "exists n.(exists c.(vowel(c) & char(n,c)) & exists z7431.(exists c.(glide(c) & char(z7431,c)) & le(z7431,n)) & exists c.char(n,c))\n",
      "all glides are capitalized\n",
      "all n.(exists c.(glide(c) & char(n,c)) -> exists c.(capital(n) & char(n,c)))\n",
      "at least one letter that follows letter three is unique\n",
      "exists n.(exists c.char(n,c) & le(3,n) & all c m.((char(m,c) & char(n,c)) -> (m = n)))\n",
      "every letter is unique\n",
      "all n.(exists c.char(n,c) -> all c m.((char(m,c) & char(n,c)) -> (m = n)))\n",
      "no unique letter is a vowel\n",
      "all n.((all c m.((char(m,c) & char(n,c)) -> (m = n)) & exists c.char(n,c)) -> -exists c.(vowel(c) & char(n,c)))\n",
      "some vowel that precedes letter five is vocalized\n",
      "some letters are not vowel\n",
      "exists n.(exists c.char(n,c) & exists c.(vowel(c) & char(n,c)))\n",
      "the letter that immediately precedes letter four is letters three\n",
      "the vowel that precedes a consonant is not consonantal\n",
      "exists n.(exists c.(vowel(c) & char(n,c)) & exists z7436.(exists c.(-vowel(c) & char(z7436,c)) & le(n,z7436)) & exists c.(-vowel(c) & char(n,c)))\n",
      "there are some mirrored letters\n",
      "exists n.(mirrored(n) & exists c.char(n,c) & exists c.char(n,c))\n",
      "no vowel is a u\n",
      "all n.(exists c.(vowel(c) & char(n,c)) -> -char(n,letu))\n",
      "every consonant is a k\n",
      "all n.(exists c.(-vowel(c) & char(n,c)) -> char(n,letk))\n",
      "every consonant is a p\n",
      "all n.(exists c.(-vowel(c) & char(n,c)) -> char(n,letp))\n",
      "every consonant is a t\n",
      "all n.(exists c.(-vowel(c) & char(n,c)) -> char(n,lett))\n",
      "every vowel is a u\n",
      "all n.(exists c.(vowel(c) & char(n,c)) -> char(n,letu))\n",
      "letter one is a k\n",
      "char(1,letk)\n",
      "letter one is a p\n",
      "char(1,letp)\n",
      "no consonant is a k\n",
      "all n.(exists c.(-vowel(c) & char(n,c)) -> -char(n,letk))\n",
      "no consonant is a p\n",
      "all n.(exists c.(-vowel(c) & char(n,c)) -> -char(n,letp))\n",
      "no consonant is a t\n",
      "all n.(exists c.(-vowel(c) & char(n,c)) -> -char(n,lett))\n",
      "there are no glides\n",
      "Check the format of your truth file, \n",
      "Check the format of your truth file, \n",
      "all n.(exists c.(glide(c) & char(n,c)) -> -exists c.char(n,c))\n",
      "letter four is repeated\n",
      "exists m c.(char(4,c) & char(m,c) & (le(m,4) | le(4,m)))\n",
      "every p e i no is more k i least all i to is unvoiced\n",
      "every letter is mirrored\n",
      "all n.(exists c.char(n,c) -> mirrored(n))\n",
      "no all the is a and to all and\n",
      "more than one the all the is at capitalized\n",
      "some letter to all that capitalized i and vocalized e\n",
      "than five than and immediately u p t and letter or three\n",
      "some that repeated the at no a vocalized a\n",
      "exactly to all consonant are capital a\n",
      "some glide that precedes letter five is capitalized\n",
      "exists n.(exists c.(glide(c) & char(n,c)) & le(n,5) & exists c.(capital(n) & char(n,c)))\n",
      "a glide is a vowel\n",
      "exists n.(exists c.(glide(c) & char(n,c)) & exists c.(vowel(c) & char(n,c)))\n",
      "some vowel that follows letter four is final\n",
      "exists n.(exists c.(vowel(c) & char(n,c)) & le(4,n) & -exists c d.(le(n,d) & char(n,c)))\n",
      "every consonant is even\n",
      "all n.(exists c.(-vowel(c) & char(n,c)) -> even(n))\n",
      "every vowel is adjacent to letter one\n",
      "all n.(exists c.(vowel(c) & char(n,c)) -> exists c.(ad(1,n) & char(1,c)))\n",
      "some capitalized letter is a four to to\n",
      "every glide that is adjacent to letter to is vocalized\n",
      "every vowel that follows letter three is unique\n",
      "all n.((exists c.(vowel(c) & char(n,c)) & le(3,n)) -> all c m.((char(m,c) & char(n,c)) -> (m = n)))\n",
      "no letters are vocalized\n",
      "every consonant that is capitalized immediately precedes a vowel\n",
      "all n.((exists c.(-vowel(c) & char(n,c)) & exists c.(capital(n) & char(n,c))) -> exists z7442.(exists c.(vowel(c) & char(z7442,c)) & le(n,z7442)))\n",
      "some capitalized letters are unvoiced\n",
      "exists n.(exists c.(capital(n) & char(n,c)) & exists c.char(n,c) & -voiced(n))\n",
      "more than one letter follows letter two\n",
      "exists m n.(exists c.char(n,c) & le(2,n) & exists c.char(m,c) & le(2,m) & -(m = n))\n",
      "every capital letter is a vowel\n",
      "all n.((capital(n) & exists c.char(n,c)) -> exists c.(vowel(c) & char(n,c)))\n",
      "every letter is centered\n",
      "all n.(exists c.char(n,c) -> exists c.(cent(n) & char(n,c)))\n",
      "only letter three is centered\n",
      "exists h.all m.(char(3,h) & (-(m = 3) -> (exists c.(cent(3) & char(3,c)) & -exists c.(cent(m) & char(m,c)))))\n",
      "all repeated letters are capitalized\n",
      "all n.((exists m c.(char(n,c) & char(m,c) & (le(m,n) | le(n,m))) & exists c.char(n,c)) -> exists c.(capital(n) & char(n,c)))\n",
      "there is more than one consonant\n",
      "exists m n.(exists c.(-vowel(c) & char(n,c)) & exists c.char(n,c) & exists c.(-vowel(c) & char(m,c)) & exists c.char(m,c) & -(m = n))\n",
      "no vowel immediately follows letter two\n",
      "all n.(exists c.(vowel(c) & char(n,c)) -> -(exists c.(ad(2,n) & char(2,c)) & le(2,n)))\n",
      "letter one is not unique\n",
      "-all c m.((char(m,c) & char(1,c)) -> (m = 1))\n",
      "a repeated letter is a vowel\n",
      "exists n.(exists m c.(char(n,c) & char(m,c) & (le(m,n) | le(n,m))) & exists c.char(n,c) & exists c.(vowel(c) & char(n,c)))\n",
      "no letter that every consonant follows is capitalized\n",
      "every letter that precedes a t precedes the u\n",
      "all n.((exists c.char(n,c) & exists z7452.(char(z7452,lett) & le(n,z7452))) -> exists z7453.(char(z7453,letu) & le(n,z7453)))\n",
      "there is exactly one letter that precedes a d\n",
      "some t immediately follows the u and immediately precedes a t\n",
      "exists n.(char(n,lett) & exists z7464.(char(z7464,letu) & le(z7464,n)) & exists z7465.(char(z7465,lett) & le(n,z7465)))\n",
      "there is at most one consonant\n",
      "letter one is final\n",
      "-exists c d.(le(1,d) & char(1,c))\n",
      "every letter that at t follows follows the t\n",
      "there is no capitalized u\n",
      "all n.((exists c.(capital(n) & char(n,c)) & char(n,letu)) -> -exists c.char(n,c))\n",
      "no consonant is repeated\n",
      "all n.(exists c.(-vowel(c) & char(n,c)) -> -exists m c.(char(n,c) & char(m,c) & (le(m,n) | le(n,m))))\n",
      "some consonant is adjacent to repeated vowel\n",
      "exists n.(exists c.(-vowel(c) & char(n,c)) & exists c.(ad(\\z7477.(exists m c.(char(z7477,c) & char(m,c) & (le(m,z7477) | le(z7477,m))) & exists c.(vowel(c) & char(z7477,c))),n) & char(\\z7478.(exists m c.(char(z7478,c) & char(m,c) & (le(m,z7478) | le(z7478,m))) & exists c.(vowel(c) & char(z7478,c))),c)))\n",
      "there is all final all letter\n",
      "all letters are voiced\n",
      "all n.(exists c.char(n,c) -> voiced(n))\n",
      "all i one to follow no consonants\n",
      "at least one glide is repeated\n",
      "exists n.(exists c.(glide(c) & char(n,c)) & exists m c.(char(n,c) & char(m,c) & (le(m,n) | le(n,m))))\n",
      "and t u letter is capitalized odd consonant the\n",
      "exactly one consonant is penultimate\n",
      "letter at t e is unique\n",
      "letter four is centered and is unvoiced\n",
      "(exists c.(cent(4) & char(4,c)) & -voiced(4))\n",
      "or one d letter or two more is even more\n",
      "some are or is a adjacent to letter or four\n",
      "every even letter four some all the letter is or consonant\n",
      "to more than one vowel all precedes the five consonant\n",
      "every unvoiced letter is repeated\n",
      "all n.((-voiced(n) & exists c.char(n,c)) -> exists m c.(char(n,c) & char(m,c) & (le(m,n) | le(n,m))))\n",
      "only capitalized letters are final\n",
      "exists h.all m.(char(\\n.(exists c.(capital(n) & char(n,c)) & exists c.char(n,c)),h) & (-(m = \\n.(exists c.(capital(n) & char(n,c)) & exists c.char(n,c))) -> (-exists c d.(le(\\n.(exists c.(capital(n) & char(n,c)) & exists c.char(n,c)),d) & char(\\n.(exists c.(capital(n) & char(n,c)) & exists c.char(n,c)),c)) & --exists c d.(le(m,d) & char(m,c)))))\n",
      "there is at least one vowel that is capitalized\n",
      "exists n.(exists c.(vowel(c) & char(n,c)) & exists c.(capital(n) & char(n,c)) & exists c.char(n,c))\n",
      "letter three a follows a vowels four a capitalized letter\n",
      "no i immediately precedes letter four\n",
      "all n.(char(n,leti) -> -(exists c.(ad(4,n) & char(4,c)) & le(n,4)))\n",
      "there is a four k to than that is centered\n",
      "there are more than one no unique glides\n",
      "all unvoiced letters are odd\n",
      "all n.((-voiced(n) & exists c.char(n,c)) -> odd(n))\n",
      "the letter one no is capital are is to or letter to is capitalized\n",
      "letter one is centered\n",
      "exists c.(cent(1) & char(1,c))\n",
      "every letter is mirrored\n",
      "all n.(exists c.char(n,c) -> mirrored(n))\n",
      "only vowels are capital is t\n",
      "letter two is capitalized exclusively or letter four is consonantal\n",
      "((-exists c.(capital(2) & char(2,c)) & exists c.(-vowel(c) & char(4,c))) | (exists c.(capital(2) & char(2,c)) & -exists c.(-vowel(c) & char(4,c))))\n",
      "no consonant is capitalized\n",
      "all n.(exists c.(-vowel(c) & char(n,c)) -> -exists c.(capital(n) & char(n,c)))\n",
      "some consonant is repeated\n",
      "exists n.(exists c.(-vowel(c) & char(n,c)) & exists m c.(char(n,c) & char(m,c) & (le(m,n) | le(n,m))))\n",
      "letter three immediately follows letter two\n",
      "(exists c.(ad(2,3) & char(2,c)) & le(2,3))\n",
      "some vowel precedes the consonant\n",
      "exists n.(exists c.(vowel(c) & char(n,c)) & exists z7489.(exists c.(-vowel(c) & char(z7489,c)) & le(n,z7489)))\n",
      "every vowel is unique\n",
      "all n.(exists c.(vowel(c) & char(n,c)) -> all c m.((char(m,c) & char(n,c)) -> (m = n)))\n",
      "more than one letter is the i letter and is capitalized\n",
      "not than one equals the letter at three\n",
      "only is letters at two is not that\n",
      "a glide is adjacent to letter five\n",
      "exists n.(exists c.(glide(c) & char(n,c)) & exists c.(ad(5,n) & char(5,c)))\n",
      "no not is repeated\n",
      "every capital is to letter follows all are i or are glide\n",
      "some all directly at that immediately precedes at consonant\n",
      "there is at least one consonant\n",
      "exists n.(exists c.(-vowel(c) & char(n,c)) & exists c.char(n,c))\n",
      "all not i follows a a consonant is unique\n",
      "every is not that is is k k t is\n",
      "there are no capitalized letters\n",
      "all n.((exists c.(capital(n) & char(n,c)) & exists c.char(n,c)) -> -exists c.char(n,c))\n",
      "there is more than one capitalized vowel\n",
      "exists m n.(exists c.(capital(n) & char(n,c)) & exists c.(vowel(c) & char(n,c)) & exists c.char(n,c) & exists c.(capital(m) & char(m,c)) & exists c.(vowel(c) & char(m,c)) & exists c.char(m,c) & -(m = n))\n",
      "a consonant immediately precedes every vowel\n",
      "exists n.(exists c.(-vowel(c) & char(n,c)) & all z7493.(exists c.(vowel(c) & char(z7493,c)) -> le(n,z7493)))\n",
      "letter to is a vowel capital or letter three is unique\n",
      "all capitalized vowels are final\n",
      "all n.((exists c.(capital(n) & char(n,c)) & exists c.(vowel(c) & char(n,c))) -> -exists c d.(le(n,d) & char(n,c)))\n",
      "at least one glide is repeated\n",
      "exists n.(exists c.(glide(c) & char(n,c)) & exists m c.(char(n,c) & char(m,c) & (le(m,n) | le(n,m))))\n",
      "there are a voiced consonants\n",
      "all vowels are capitalized and all consonants are not capitalized\n",
      "(all n.(exists c.(vowel(c) & char(n,c)) -> exists c.(capital(n) & char(n,c))) & all n.(exists c.(-vowel(c) & char(n,c)) -> -exists c.(capital(n) & char(n,c))))\n",
      "only glides are repeated\n",
      "a vowel is adjacent to every consonant\n",
      "there is are letter that that is final and is repeated and is at four capital\n",
      "are unique or to there that immediately precedes letter or four\n",
      "letter four equals letter five exclusively or some e is penultimate\n",
      "((-exists c.(char(4,c) & char(5,c)) & exists n.(char(n,lete) & exists c.char(n,c) & exists d.(ad(n,d) & le(n,d) & -exists m.le(d,m)))) | (exists c.(char(4,c) & char(5,c)) & -exists n.(char(n,lete) & exists c.char(n,c) & exists d.(ad(n,d) & le(n,d) & -exists m.le(d,m)))))\n",
      "all letters that are capitalized follow some odd glides\n",
      "all n.((exists c.char(n,c) & exists c.(capital(n) & char(n,c))) -> exists z7499.(odd(z7499) & exists c.(glide(c) & char(z7499,c)) & le(z7499,n)))\n",
      "every letter or follow some four to than or at least one not glide\n",
      "every even letter is a glide or capitalized\n",
      "all n.((even(n) & exists c.char(n,c)) -> (exists c.(glide(c) & char(n,c)) | exists c.(capital(n) & char(n,c))))\n",
      "i not all all unvoiced glides or adjacent a letter to than\n",
      "every are not all at letter that precedes letter to is e u p\n",
      "no voiced vowel precedes not every p\n",
      "all n.((voiced(n) & exists c.(vowel(c) & char(n,c))) -> --all z7501.(char(z7501,letp) -> le(n,z7501)))\n",
      "only letter four is a i and is penultimate\n",
      "exists h.all m.(char(4,h) & (-(m = 4) -> (char(4,leti) & exists c.char(4,c) & exists d.(ad(4,d) & le(4,d) & -exists m.le(d,m)) & -(char(m,leti) & exists c.char(m,c) & exists d.(ad(m,d) & le(m,d) & -exists z7502.le(d,z7502))))))\n",
      "not every p is adjacent to letter three\n",
      "-all n.(char(n,letp) -> exists c.(ad(3,n) & char(3,c)))\n",
      "a not all all unvoiced consonants are u i d or i final\n",
      "a letter five is a capital letter exclusively or letter to is centered or are\n",
      "every unvoiced capital letter is adjacent to letter one\n",
      "all n.((-voiced(n) & capital(n) & exists c.char(n,c)) -> exists c.(ad(1,n) & char(1,c)))\n",
      "letter one to equals letter or four exclusively i letter to equals letter a one\n",
      "every p immediately follows a glide that is unique\n",
      "all n.(char(n,letp) -> exists z7517.(exists c.(glide(c) & char(z7517,c)) & all c z7516.((char(z7516,c) & char(z7517,c)) -> (z7516 = z7517)) & le(z7517,n)))\n",
      "the more than one capitalized letter is the capital\n",
      "letter five equals letter to exclusively at there there is a five and\n",
      "at least one i is adjacent to letter five\n",
      "exists n.(char(n,leti) & exists c.(ad(5,n) & char(5,c)))\n",
      "a p is adjacent to letter four and immediately follows the i\n",
      "exists n.(char(n,letp) & exists c.(ad(4,n) & char(4,c)) & exists z7522.(char(z7522,leti) & le(z7522,n)))\n",
      "all letters that are adjacent to letter two are mirrored\n",
      "all n.((exists c.char(n,c) & exists c.(ad(2,n) & char(2,c))) -> mirrored(n))\n",
      "and there is at t e that is a vowel or penultimate than\n",
      "only letter to the is unique and is voiced\n",
      "only vocalized k capital letters precede a a u\n",
      "some a are to vowels immediately follow a k and are repeated the\n",
      "letter one equals letter three exclusively or there is a glide exclusively or some letter is unique\n",
      "((-((-exists c.(char(1,c) & char(3,c)) & exists n.(exists c.(glide(c) & char(n,c)) & exists c.char(n,c))) | (exists c.(char(1,c) & char(3,c)) & -exists n.(exists c.(glide(c) & char(n,c)) & exists c.char(n,c)))) & exists n.(exists c.char(n,c) & all c m.((char(m,c) & char(n,c)) -> (m = n)))) | (((-exists c.(char(1,c) & char(3,c)) & exists n.(exists c.(glide(c) & char(n,c)) & exists c.char(n,c))) | (exists c.(char(1,c) & char(3,c)) & -exists n.(exists c.(glide(c) & char(n,c)) & exists c.char(n,c)))) & -exists n.(exists c.char(n,c) & all c m.((char(m,c) & char(n,c)) -> (m = n)))))\n",
      "there are some three at the there is that a or voiced\n",
      "a penultimate even t is capitalized and precedes a vocalized letter\n",
      "some consonants and all five repeated some are penultimate\n",
      "at least one consonantal vowel is odd\n",
      "exists n.(exists c.(-vowel(c) & char(n,c)) & exists c.(vowel(c) & char(n,c)) & odd(n))\n",
      "only letter three is a k and is odd\n",
      "exists h.all m.(char(3,h) & (-(m = 3) -> (char(3,letk) & odd(3) & -(char(m,letk) & odd(m)))))\n",
      "every t and every p is mirrored\n",
      "(all n.(char(n,lett) -> mirrored(n)) & all n.(char(n,letp) -> mirrored(n)))\n",
      "no four that is are a vowel or unvoiced\n",
      "only consonantal odd letters are repeated\n",
      "exists h.all m.(char(\\n.(exists c.(-vowel(c) & char(n,c)) & odd(n) & exists c.char(n,c)),h) & (-(m = \\n.(exists c.(-vowel(c) & char(n,c)) & odd(n) & exists c.char(n,c))) -> (exists m c.(char(\\n.(exists c.(-vowel(c) & char(n,c)) & odd(n) & exists c.char(n,c)),c) & char(m,c) & (le(m,\\n.(exists c.(-vowel(c) & char(n,c)) & odd(n) & exists c.char(n,c))) | le(\\n.(exists c.(-vowel(c) & char(n,c)) & odd(n) & exists c.char(n,c)),m))) & -exists z7535 c.(char(m,c) & char(z7535,c) & (le(z7535,m) | le(m,z7535))))))\n",
      "all four capital letters that precede e letter three are initial\n",
      "more than one vowel follows a five to there the that is voiced\n",
      "the letter or three is equals letter or four exclusively or letter three precedes some four that the is\n",
      "not all letters that are repeated are capitalized\n",
      "-all n.((exists c.char(n,c) & exists m c.(char(n,c) & char(m,c) & (le(m,n) | le(n,m)))) -> exists c.(capital(n) & char(n,c)))\n",
      "not every u is mirrored exclusively u or and there is e centered a vowel\n",
      "every letter the follows all glides is and e u or consonant all\n",
      "there is a final capitalized e that is mirrored\n",
      "exists n.(-exists c d.(le(n,d) & char(n,c)) & exists c.(capital(n) & char(n,c)) & char(n,lete) & mirrored(n) & exists c.char(n,c))\n",
      "all repeated letters follow some voiced glides\n",
      "all n.((exists m c.(char(n,c) & char(m,c) & (le(m,n) | le(n,m))) & exists c.char(n,c)) -> exists z7538.(voiced(z7538) & exists c.(glide(c) & char(z7538,c)) & le(z7538,n)))\n",
      "all glides precedes and four to there is that are mirrored\n",
      "more than one p follows some k that precedes every t\n",
      "exists m n.(char(n,letp) & exists z7544.(char(z7544,letk) & all z7542.(char(z7542,lett) -> le(z7544,z7542)) & le(z7544,n)) & char(m,letp) & exists n.(char(n,letk) & all z7542.(char(z7542,lett) -> le(n,z7542)) & le(n,m)) & -(m = n))\n",
      "some consonants are a glide or capitalized and are initial\n",
      "exists n.(exists c.(-vowel(c) & char(n,c)) & (exists c.(glide(c) & char(n,c)) | exists c.(capital(n) & char(n,c))) & -exists c d.(le(d,n) & char(n,c)))\n",
      "not all final glides precede a u\n",
      "-all n.((-exists c d.(le(n,d) & char(n,c)) & exists c.(glide(c) & char(n,c))) -> exists z7547.(char(z7547,letu) & le(n,z7547)))\n",
      "every consonant is a t and follows some vowels\n",
      "all n.(exists c.(-vowel(c) & char(n,c)) -> (char(n,lett) & exists z7549.(exists c.(vowel(c) & char(z7549,c)) & le(z7549,n))))\n",
      "some odd consonants follow at least one k\n",
      "exists n.(odd(n) & exists c.(-vowel(c) & char(n,c)) & exists z7551.(char(z7551,letk) & le(z7551,n)))\n",
      "all a and more i that at there and i even\n",
      "every is odd consonant and to some unvoiced letter a than p k and two that a two\n",
      "every e k e and every e even to even to two letter five\n",
      "no all the is a voiced and and five\n",
      "all i and the are the immediately four no or t\n",
      "all four to to is that are voiced are even\n",
      "not all consonants precede a final u\n",
      "-all n.(exists c.(-vowel(c) & char(n,c)) -> exists z7554.(-exists c d.(le(z7554,d) & char(z7554,c)) & char(z7554,letu) & le(n,z7554)))\n",
      "i only unvoiced three to k is are a centered consonant or mirrored\n",
      "no letters that are consonantal precede a t or a u\n",
      "all n.((exists c.char(n,c) & exists c.(-vowel(c) & char(n,c))) -> -(exists z7558.(char(z7558,lett) & le(n,z7558)) | exists z7559.(char(z7559,letu) & le(n,z7559))))\n",
      "some consonants immediately follow a penultimate letter\n",
      "exists n.(exists c.(-vowel(c) & char(n,c)) & exists z7566.(exists c.char(z7566,c) & exists d.(ad(z7566,d) & le(z7566,d) & -exists z7565.le(d,z7565)) & exists c.char(z7566,c) & le(z7566,n)))\n",
      "no consonant precedes some vowels\n",
      "all n.(exists c.(-vowel(c) & char(n,c)) -> -exists z7569.(exists c.(vowel(c) & char(z7569,c)) & le(n,z7569)))\n",
      "letter five equals letter five at exclusively or that are five is unique\n",
      "there is a centered d a and that there is u that follows at i e\n",
      "every five is capital letter is all one all is a all are more to i least\n",
      "a is the initial unique consonant is a adjacent to letter or two\n",
      "there are some glides that are centered\n",
      "exists n.(exists c.(glide(c) & char(n,c)) & exists c.(cent(n) & char(n,c)) & exists c.char(n,c))\n",
      "every u three to to is centered at there and is repeated\n",
      "no capital a letter all follow is at to is or are more than one all is and at least one glide\n",
      "no letter is a p and is a odd e and is a e\n",
      "all n.(exists c.char(n,c) -> -(char(n,letp) & odd(n) & char(n,lete) & char(n,lete)))\n",
      "more than one glide precedes letter three\n",
      "exists m n.(exists c.(glide(c) & char(n,c)) & le(n,3) & exists c.(glide(c) & char(m,c)) & le(m,3) & -(m = n))\n",
      "letter three equals letter two exclusively or letter two equals letter four\n",
      "((-exists c.(char(3,c) & char(2,c)) & exists c.(char(2,c) & char(4,c))) | (exists c.(char(3,c) & char(2,c)) & -exists c.(char(2,c) & char(4,c))))\n",
      "some four k to is unique and is centered\n",
      "every u is capitalized and is repeated\n",
      "all n.(char(n,letu) -> (exists c.(capital(n) & char(n,c)) & exists m c.(char(n,c) & char(m,c) & (le(m,n) | le(n,m)))))\n",
      "all vowels precede more than one glide\n",
      "all n.(exists c.(vowel(c) & char(n,c)) -> exists z7571 z7572.(exists c.(glide(c) & char(z7572,c)) & le(n,z7572) & exists c.(glide(c) & char(z7571,c)) & le(n,z7571) & -(z7571 = z7572)))\n",
      "all consonants are mirrored and are capitalized\n",
      "all n.(exists c.(-vowel(c) & char(n,c)) -> (mirrored(n) & exists c.(capital(n) & char(n,c))))\n",
      "some consonants a follow at a at five and are even\n",
      "at least one vowel k all at letter immediately follows a glide\n",
      "letter three follows only capital vowels that are capital\n",
      "exists h.all z7582.(char(\\n.(capital(n) & exists c.(vowel(c) & char(n,c)) & capital(n)),h) & (-(z7582 = \\n.(capital(n) & exists c.(vowel(c) & char(n,c)) & capital(n))) -> (le(\\n.(capital(n) & exists c.(vowel(c) & char(n,c)) & capital(n)),3) & -le(z7582,3))))\n",
      "not only e at the and four is a i all are a unvoiced\n",
      "a t is to one repeated consonant to u k k k u is unvoiced\n",
      "a at the initial is more least consonant immediately precedes that there five\n",
      "some e is mirrored exclusively are at i e is initial\n",
      "all consonantal letter is are a t at or repeated\n",
      "every even consonantal capital letter is unique\n",
      "all n.((even(n) & exists c.(-vowel(c) & char(n,c)) & capital(n) & exists c.char(n,c)) -> all c m.((char(m,c) & char(n,c)) -> (m = n)))\n",
      "no letter is consonantal and follows a k\n",
      "all n.(exists c.char(n,c) -> -(exists c.(-vowel(c) & char(n,c)) & exists z7584.(char(z7584,letk) & le(z7584,n))))\n",
      "a penultimate even unique three to there the precedes at no initial consonant\n",
      "only even consonants immediately follow more than one t\n",
      "exists h.all m.(char(\\n.(even(n) & exists c.(-vowel(c) & char(n,c))),h) & (-(m = \\n.(even(n) & exists c.(-vowel(c) & char(n,c)))) -> (exists z7590 n.(char(n,lett) & le(n,\\n.(even(n) & exists c.(-vowel(c) & char(n,c)))) & char(z7590,lett) & le(z7590,\\n.(even(n) & exists c.(-vowel(c) & char(n,c)))) & -(z7590 = n)) & -exists z7590 n.(char(n,lett) & le(n,m) & char(z7590,lett) & le(z7590,m) & -(z7590 = n)))))\n",
      "every four that is is initial and penultimate that exclusively or letter three is repeated to and unvoiced\n",
      "every four capital even letter at that precedes some vowel is that the i e and immediately follows a glide\n",
      "some at mirrored vowels are adjacent two letter or four and precede at least one consonant that is a glide to or voiced the\n",
      "at least a one the the vocalized at letter the that is not a the capital vowel is initial\n",
      "the some odd no letter or follows not every vowel and not the every vowel follows some letter\n",
      "a only consonantal initial three that is are unique exclusively or every u is initial and not repeated\n",
      "all three the there is that are i unvoiced are not mirrored and precede no k\n",
      "some centered vowel that letter four is adjacent to follows a letter that follows the capital vowel\n",
      "exists n.(exists c.(cent(n) & char(n,c)) & exists c.(vowel(c) & char(n,c)) & exists c.(ad(n,4) & char(n,c)) & exists z7612.(exists c.char(z7612,c) & exists z7610.(capital(z7610) & exists c.(vowel(c) & char(z7610,c)) & le(z7610,z7612)) & le(z7612,n)))\n",
      "some four d there is precede letter to or follow letter four and i are adjacent to letters are e\n",
      "every p is a consonant exclusively or there are some glides that are odd and not voiced\n",
      "((-all n.(char(n,letp) -> exists c.(-vowel(c) & char(n,c))) & exists n.(exists c.(glide(c) & char(n,c)) & odd(n) & -voiced(n) & exists c.char(n,c))) | (all n.(char(n,letp) -> exists c.(-vowel(c) & char(n,c))) & -exists n.(exists c.(glide(c) & char(n,c)) & odd(n) & -voiced(n) & exists c.char(n,c))))\n",
      "all consonant that letter four is adjacent t no follow at least one e e\n",
      "no i at glides the a letter five precedes and voiced and follow or u\n",
      "only even vowels that are adjacent odd consonants follow letter three\n",
      "exists h.all m.(char(\\n.(even(n) & exists c.(vowel(c) & char(n,c)) & \\m.exists c.(ad(n,m) & char(n,c)) & odd(n) & exists c.(-vowel(c) & char(n,c))),h) & (-(m = \\n.(even(n) & exists c.(vowel(c) & char(n,c)) & \\m.exists c.(ad(n,m) & char(n,c)) & odd(n) & exists c.(-vowel(c) & char(n,c)))) -> (le(3,\\n.(even(n) & exists c.(vowel(c) & char(n,c)) & \\m.exists c.(ad(n,m) & char(n,c)) & odd(n) & exists c.(-vowel(c) & char(n,c)))) & -le(3,m))))\n",
      "some glide that letter four follows is unvoiced and capitalized or is final\n",
      "exists n.(exists c.(glide(c) & char(n,c)) & le(n,4) & ((-voiced(n) & exists c.(capital(n) & char(n,c))) | -exists c d.(le(n,d) & char(n,c))))\n",
      "all four to there is to are penultimate or a follow some a unvoiced vocalized mirrored i a\n",
      "only mirrored letters are not unique and there is no unvoiced i\n",
      "(exists h.all m.(char(\\n.(mirrored(n) & exists c.char(n,c)),h) & (-(m = \\n.(mirrored(n) & exists c.char(n,c))) -> (-all c m.((char(m,c) & char(\\n.(mirrored(n) & exists c.char(n,c)),c)) -> (m = \\n.(mirrored(n) & exists c.char(n,c)))) & --all c z7615.((char(z7615,c) & char(m,c)) -> (z7615 = m))))) & all n.((-voiced(n) & char(n,leti)) -> -exists c.char(n,c)))\n",
      "all glides are unique and all consonants are capitalized\n",
      "(all n.(exists c.(glide(c) & char(n,c)) -> all c m.((char(m,c) & char(n,c)) -> (m = n))) & all n.(exists c.(-vowel(c) & char(n,c)) -> exists c.(capital(n) & char(n,c))))\n",
      "that repeated that letter to precedes is penultimate and is consonants all or repeated\n",
      "every u that letter three is adjacent to is capitalized and final\n",
      "all n.((char(n,letu) & exists c.(ad(n,3) & char(n,c))) -> (exists c.(capital(n) & char(n,c)) & -exists c d.(le(n,d) & char(n,c))))\n",
      "all even letters at are more are all and the is e a at least one i a and more than one a\n",
      "not letters are final exclusively or no letters are a initial or a all are unique letters are not there\n",
      "only mirrored vowels and consonants all exclusively or there is a centered even final i\n",
      "only consonantal three is i unique and there is no t there all is at least one u e\n",
      "that are four and equals letter four and there is a capitalized final four and a or the or no consonantal four to that\n",
      "letter four is equals letter three at and all consonants are or p u or voiced\n",
      "a consonantal four than are the is final and the initial letter is not penultimate\n",
      "every e and no p are voiced and there is a t that immediately follows every consonant\n",
      "(all n.(char(n,lete) -> voiced(n)) & all n.(char(n,letp) -> -voiced(n)) & exists n.(char(n,lett) & all z7623.(exists c.(-vowel(c) & char(z7623,c)) -> le(z7623,n)) & exists c.char(n,c)))\n",
      "all vowels are adjacent to capital glides and letter four equals letter two\n",
      "(all n.(exists c.(vowel(c) & char(n,c)) -> exists c.(ad(\\z7624.(capital(z7624) & exists c.(glide(c) & char(z7624,c))),n) & char(\\z7625.(capital(z7625) & exists c.(glide(c) & char(z7625,c))),c))) & exists c.(char(4,c) & char(2,c)))\n",
      "some e e the four every t u or i u is all the and is not capitalized\n",
      "only penultimate follows are are unvoiced or repeated a or follow some that that is a and are unvoiced\n",
      "some follows precede a a unique consonant or more that one the a capital the letter and are capitalized\n",
      "only unique follows that are not mirrored are capital and are adjacent to letter or five\n",
      "at least one t that letter two is adjacent to follows some voiced glides\n",
      "exists n.(char(n,lett) & exists c.(ad(n,2) & char(n,c)) & exists z7627.(voiced(z7627) & exists c.(glide(c) & char(z7627,c)) & le(z7627,n)))\n",
      "only letter to or is final and some vowel that letter four precedes is at k and to centered\n",
      "all consonants that follow a capital consonant are unique and letter four equals letter one\n",
      "(all n.((exists c.(-vowel(c) & char(n,c)) & exists z7629.(capital(z7629) & exists c.(-vowel(c) & char(z7629,c)) & le(z7629,n))) -> all c m.((char(m,c) & char(n,c)) -> (m = n))) & exists c.(char(4,c) & char(1,c)))\n",
      "only capital vowels are repeated or are mirrored exclusively or there is more than one i or at least one k\n",
      "((-exists h.all m.(char(\\n.(capital(n) & exists c.(vowel(c) & char(n,c))),h) & (-(m = \\n.(capital(n) & exists c.(vowel(c) & char(n,c)))) -> ((exists m c.(char(\\n.(capital(n) & exists c.(vowel(c) & char(n,c))),c) & char(m,c) & (le(m,\\n.(capital(n) & exists c.(vowel(c) & char(n,c)))) | le(\\n.(capital(n) & exists c.(vowel(c) & char(n,c))),m))) | mirrored(\\n.(capital(n) & exists c.(vowel(c) & char(n,c))))) & -(exists z7631 c.(char(m,c) & char(z7631,c) & (le(z7631,m) | le(m,z7631))) | mirrored(m))))) & (exists m n.(char(n,leti) & exists c.char(n,c) & char(m,leti) & exists c.char(m,c) & -(m = n)) | exists n.(char(n,letk) & exists c.char(n,c)))) | (exists h.all m.(char(\\n.(capital(n) & exists c.(vowel(c) & char(n,c))),h) & (-(m = \\n.(capital(n) & exists c.(vowel(c) & char(n,c)))) -> ((exists m c.(char(\\n.(capital(n) & exists c.(vowel(c) & char(n,c))),c) & char(m,c) & (le(m,\\n.(capital(n) & exists c.(vowel(c) & char(n,c)))) | le(\\n.(capital(n) & exists c.(vowel(c) & char(n,c))),m))) | mirrored(\\n.(capital(n) & exists c.(vowel(c) & char(n,c))))) & -(exists z7631 c.(char(m,c) & char(z7631,c) & (le(z7631,m) | le(m,z7631))) | mirrored(m))))) & -(exists m n.(char(n,leti) & exists c.char(n,c) & char(m,leti) & exists c.char(m,c) & -(m = n)) | exists n.(char(n,letk) & exists c.char(n,c)))))\n",
      "every even consonant is adjacent a letter four exclusively or is there is a p e\n",
      "the letter no five e a p all i and i to i that letter at the t i e u\n",
      "and to follow than that the i all i no u four no and at least one glide\n",
      "and are t d at no that is not unique and at d to and that no five all odd is odd\n",
      "one the u p d to a all the repeated odd t are to one even that no a to are vocalized that and unique\n",
      "every t a i and one and that letter at two or three d e the a to glide all i to and more a the and no or k one and than to the and capital\n",
      "five all letters at that are vocalized or centered and are repeated are unique exclusively or there is no mirrored vocalized voiced three to five\n",
      "every vocalized letter that repeated vowels precede at follows at no i a and no k\n",
      "a final letter is a glide and odd or follows more than one unvoiced repeated consonant\n",
      "exists n.(-exists c d.(le(n,d) & char(n,c)) & exists c.char(n,c) & ((exists c.(glide(c) & char(n,c)) & odd(n)) | exists z7634 z7635.(-voiced(z7635) & exists z7634 c.(char(z7635,c) & char(z7634,c) & (le(z7634,z7635) | le(z7635,z7634))) & exists c.(-vowel(c) & char(z7635,c)) & le(z7635,n) & -voiced(z7634) & exists z7632 c.(char(z7634,c) & char(z7632,c) & (le(z7632,z7634) | le(z7634,z7632))) & exists c.(-vowel(c) & char(z7634,c)) & le(z7634,n) & -(z7634 = z7635))))\n",
      "a letter five is not adjacent to letter three or follows more than one to five\n",
      "every vowel that letter one precedes precedes the unvoiced centered even glide\n",
      "all n.((exists c.(vowel(c) & char(n,c)) & le(1,n)) -> exists z7637.(-voiced(z7637) & exists c.(cent(z7637) & char(z7637,c)) & even(z7637) & exists c.(glide(c) & char(z7637,c)) & le(n,z7637)))\n",
      "all three p d is or consonant all and unvoiced and there is no four to to is that is repeated\n",
      "only centered vowels follow even consonants and no that glide at immediately follows all a p e\n",
      "more than one at repeated that a letter to follows follows the a consonant all four to two\n",
      "there are some glides that immediately precede at least one t and more than one u\n",
      "exists n.(exists c.(glide(c) & char(n,c)) & exists z7650.(char(z7650,lett) & le(n,z7650)) & exists z7648 z7651.(char(z7651,letu) & le(n,z7651) & char(z7648,letu) & le(n,z7648) & -(z7648 = z7651)) & exists c.char(n,c))\n",
      "every u follow the is not four k i a exclusively e all i d i centered p e follow no some even consonant and is not all i d\n",
      "no glides that i all i to follow no more than one e all i a capitalized voiced repeated\n",
      "letter i t equals letter or four to exclusively e all at the i k i t equals letter or two one and is letter to one equals letter or four\n",
      "all u glides i to all and and voiced and a odd no one letter or is that i i or t all is repeated\n",
      "some one to the is immediately precede at at least one glide all i immediately precede some e\n",
      "a centered consonant that is a glide follows no consonants and precedes letter five\n",
      "exists n.(exists c.(cent(n) & char(n,c)) & exists c.(-vowel(c) & char(n,c)) & exists c.(glide(c) & char(n,c)) & all z7665.(exists c.(-vowel(c) & char(z7665,c)) -> -le(z7665,n)) & le(n,5))\n",
      "some u u e is final exclusively or there is a consonantal initial four k to that precedes i at least one i\n",
      "some are i and that letter one precedes follows a capital vowels\n",
      "at least one the u at is initial or a final and to no four k to is are penultimate or are repeated\n",
      "all consonants or final or initial and there is that no consonant all four to two that is not penultimate\n",
      "no letters or that are not final are e t or not consonant all and all four to is are adjacent to letter three\n",
      "and letter five equals at letter a four and a e u a that is a four to to and initial precedes a k\n",
      "every e k e that that letter to follows follows a capitalized i or and is capitalized\n",
      "no or t is mirrored and centered and there are no consonants that unique e precede a at t\n",
      "not glide that follows a at follows all are capitalized at there is letters the or p\n",
      "no that five is a consonant and follows more than one letter that is a e\n",
      "all i glides at that to exclusively are is some unique at there is precede a at e at is all are to and capitalized\n",
      "all the i to two and the i letter i t immediately follows a centered even p e\n",
      "a letter that is penultimate is unique exclusively or there are no letters that are unique\n",
      "((-exists n.(exists c.char(n,c) & exists c.char(n,c) & exists d.(ad(n,d) & le(n,d) & -exists m.le(d,m)) & all c m.((char(m,c) & char(n,c)) -> (m = n))) & all n.((exists c.char(n,c) & all c m.((char(m,c) & char(n,c)) -> (m = n))) -> -exists c.char(n,c))) | (exists n.(exists c.char(n,c) & exists c.char(n,c) & exists d.(ad(n,d) & le(n,d) & -exists m.le(d,m)) & all c m.((char(m,c) & char(n,c)) -> (m = n))) & -all n.((exists c.char(n,c) & all c m.((char(m,c) & char(n,c)) -> (m = n))) -> -exists c.char(n,c))))\n",
      "there is no even glide at that is capital or precedes more than one t a or any e e\n",
      "all letters that follow more than one e that are capitalized are odd\n",
      "all n.((exists c.char(n,c) & exists z7684 z7686.(char(z7686,lete) & le(z7686,n) & char(z7684,lete) & le(z7684,n) & -(z7684 = z7686)) & exists c.(capital(n) & char(n,c))) -> odd(n))\n",
      "every k is centered and immediately precedes and vowel that is no capital and even\n",
      "every i that is adjacent to letter four is vocalized and unique or follows at p\n",
      "\n",
      "1308 out of 2614\n",
      "Truth value error rate: 0.4996174445294568\n",
      "0\n",
      "1308\n",
      "2614\n"
     ]
    }
   ],
   "source": [
    "check_truth(truth_path,result_path,g1_path)"
   ]
  },
  {
   "cell_type": "code",
   "execution_count": 30,
   "metadata": {
    "vscode": {
     "languageId": "shellscript"
    }
   },
   "outputs": [
    {
     "ename": "NameError",
     "evalue": "name 'numCorrect' is not defined",
     "output_type": "error",
     "traceback": [
      "\u001b[0;31m---------------------------------------------------------------------------\u001b[0m",
      "\u001b[0;31mNameError\u001b[0m                                 Traceback (most recent call last)",
      "\u001b[1;32m/System/Volumes/Data/local/teach/cl23/decode3.ipynb Cell 21\u001b[0m in \u001b[0;36m<cell line: 1>\u001b[0;34m()\u001b[0m\n\u001b[0;32m----> <a href='vscode-notebook-cell:/System/Volumes/Data/local/teach/cl23/decode3.ipynb#X26sZmlsZQ%3D%3D?line=0'>1</a>\u001b[0m \u001b[39mprint\u001b[39m(numCorrect)\n\u001b[1;32m      <a href='vscode-notebook-cell:/System/Volumes/Data/local/teach/cl23/decode3.ipynb#X26sZmlsZQ%3D%3D?line=1'>2</a>\u001b[0m \u001b[39mprint\u001b[39m(numGuessedCorrect)\n\u001b[1;32m      <a href='vscode-notebook-cell:/System/Volumes/Data/local/teach/cl23/decode3.ipynb#X26sZmlsZQ%3D%3D?line=2'>3</a>\u001b[0m \u001b[39mprint\u001b[39m(numTests)\n",
      "\u001b[0;31mNameError\u001b[0m: name 'numCorrect' is not defined"
     ]
    }
   ],
   "source": [
    "print(numCorrect)\n",
    "print(numGuessedCorrect)\n",
    "print(numTests)"
   ]
  }
 ],
 "metadata": {
  "kernelspec": {
   "display_name": "Bash",
   "language": "bash",
   "name": "bash"
  },
  "language_info": {
   "codemirror_mode": "shell",
   "file_extension": ".sh",
   "mimetype": "text/x-sh",
   "name": "bash"
  },
  "orig_nbformat": 4
 },
 "nbformat": 4,
 "nbformat_minor": 2
}
